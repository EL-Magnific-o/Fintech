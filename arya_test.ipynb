{
 "cells": [
  {
   "cell_type": "code",
   "execution_count": 11,
   "id": "84afb356-82f9-446c-8302-11a47e74edaa",
   "metadata": {},
   "outputs": [],
   "source": [
    "def greet(name):\n",
    "    print(f\"my name is {name}\")"
   ]
  },
  {
   "cell_type": "code",
   "execution_count": null,
   "id": "e495de7b-3eb1-4840-b21e-75dfe8bb0686",
   "metadata": {},
   "outputs": [],
   "source": []
  },
  {
   "cell_type": "code",
   "execution_count": 12,
   "id": "dbc7a649-3ed1-4fbb-bde7-e838fc6ab329",
   "metadata": {},
   "outputs": [
    {
     "name": "stdout",
     "output_type": "stream",
     "text": [
      "my name is arya\n"
     ]
    }
   ],
   "source": [
    "greet('arya')"
   ]
  },
  {
   "cell_type": "code",
   "execution_count": 13,
   "id": "d621762d-1c5a-4a84-9507-22b679e67f5e",
   "metadata": {},
   "outputs": [],
   "source": [
    "def add(a,b):\n",
    "    print(f\"sum is {a+b}\")"
   ]
  },
  {
   "cell_type": "code",
   "execution_count": 15,
   "id": "6585e264-2b26-4580-a5dd-0b924c6c5d8d",
   "metadata": {},
   "outputs": [
    {
     "name": "stdout",
     "output_type": "stream",
     "text": [
      "sum is 6\n"
     ]
    }
   ],
   "source": [
    "add(2,4)"
   ]
  },
  {
   "cell_type": "code",
   "execution_count": 16,
   "id": "d90bc21f-6586-4512-ad5f-2a08f5034410",
   "metadata": {},
   "outputs": [],
   "source": [
    "def currcon(dollar):\n",
    "    print(f\"USD {dollar} is equal to Saudi riyal {dollar*3.75}\")"
   ]
  },
  {
   "cell_type": "code",
   "execution_count": 17,
   "id": "d30e17f6-42e3-47e4-9812-7f086819fe42",
   "metadata": {},
   "outputs": [
    {
     "name": "stdout",
     "output_type": "stream",
     "text": [
      "USD 5 is equal to Saudi riyal 18.75\n"
     ]
    }
   ],
   "source": [
    "currcon(5)"
   ]
  },
  {
   "cell_type": "code",
   "execution_count": 18,
   "id": "1b023527-d70d-45a9-bec9-6bd2df2ebb71",
   "metadata": {},
   "outputs": [],
   "source": [
    "a=[2,4,6,8\n",
    "  ]"
   ]
  },
  {
   "cell_type": "code",
   "execution_count": 20,
   "id": "b859a4f2-8f50-4e89-92fd-fc35139e6aa6",
   "metadata": {},
   "outputs": [
    {
     "data": {
      "text/plain": [
       "[2, 4, 6, 8]"
      ]
     },
     "execution_count": 20,
     "metadata": {},
     "output_type": "execute_result"
    }
   ],
   "source": [
    "a\n"
   ]
  },
  {
   "cell_type": "code",
   "execution_count": 2,
   "id": "af697d86-da83-411f-b8eb-eddb4fccf815",
   "metadata": {},
   "outputs": [],
   "source": [
    "import numpy as np"
   ]
  },
  {
   "cell_type": "code",
   "execution_count": 29,
   "id": "b89f2b7d-8c6e-4487-9275-3546819712e2",
   "metadata": {},
   "outputs": [],
   "source": [
    "t=np.ones((10, 5))"
   ]
  },
  {
   "cell_type": "code",
   "execution_count": 8,
   "id": "f612335c-c23d-412c-9bff-b521ab3c4029",
   "metadata": {},
   "outputs": [],
   "source": [
    "a= np.array([1,2,3,4,5])"
   ]
  },
  {
   "cell_type": "code",
   "execution_count": 16,
   "id": "8e8fe499-380f-437a-a0f3-28e4af64428b",
   "metadata": {},
   "outputs": [
    {
     "data": {
      "text/plain": [
       "(10, 5)"
      ]
     },
     "execution_count": 16,
     "metadata": {},
     "output_type": "execute_result"
    }
   ],
   "source": [
    "t.shape"
   ]
  },
  {
   "cell_type": "code",
   "execution_count": 17,
   "id": "50de4372-f564-47e6-bcf9-67aa69f024b4",
   "metadata": {},
   "outputs": [
    {
     "data": {
      "text/plain": [
       "array([[1., 1., 1., 1., 1.],\n",
       "       [1., 1., 1., 1., 1.],\n",
       "       [1., 1., 1., 1., 1.],\n",
       "       [1., 1., 1., 1., 1.],\n",
       "       [1., 1., 1., 1., 1.],\n",
       "       [1., 1., 1., 1., 1.],\n",
       "       [1., 1., 1., 1., 1.],\n",
       "       [1., 1., 1., 1., 1.],\n",
       "       [1., 1., 1., 1., 1.],\n",
       "       [1., 1., 1., 1., 1.]])"
      ]
     },
     "execution_count": 17,
     "metadata": {},
     "output_type": "execute_result"
    }
   ],
   "source": [
    "t"
   ]
  },
  {
   "cell_type": "code",
   "execution_count": 18,
   "id": "ade7a640-3257-4405-b947-1f635442dbb3",
   "metadata": {},
   "outputs": [],
   "source": [
    "a = np.arange(15).reshape(3, 5)"
   ]
  },
  {
   "cell_type": "code",
   "execution_count": 19,
   "id": "f90e74ec-30e3-4a8f-b15e-171ec9af4490",
   "metadata": {},
   "outputs": [
    {
     "data": {
      "text/plain": [
       "array([[ 0,  1,  2,  3,  4],\n",
       "       [ 5,  6,  7,  8,  9],\n",
       "       [10, 11, 12, 13, 14]])"
      ]
     },
     "execution_count": 19,
     "metadata": {},
     "output_type": "execute_result"
    }
   ],
   "source": [
    "a"
   ]
  },
  {
   "cell_type": "code",
   "execution_count": 26,
   "id": "272a198c-0402-46fe-88ae-83cdbd255719",
   "metadata": {},
   "outputs": [
    {
     "data": {
      "text/plain": [
       "array([   5,   20,   35,   50,   65,   80,   95,  110,  125,  140,  155,\n",
       "        170,  185,  200,  215,  230,  245,  260,  275,  290,  305,  320,\n",
       "        335,  350,  365,  380,  395,  410,  425,  440,  455,  470,  485,\n",
       "        500,  515,  530,  545,  560,  575,  590,  605,  620,  635,  650,\n",
       "        665,  680,  695,  710,  725,  740,  755,  770,  785,  800,  815,\n",
       "        830,  845,  860,  875,  890,  905,  920,  935,  950,  965,  980,\n",
       "        995, 1010, 1025, 1040, 1055, 1070, 1085, 1100, 1115, 1130, 1145,\n",
       "       1160, 1175, 1190, 1205, 1220, 1235, 1250, 1265, 1280, 1295, 1310,\n",
       "       1325, 1340, 1355, 1370, 1385, 1400, 1415, 1430, 1445, 1460, 1475,\n",
       "       1490, 1505, 1520, 1535, 1550, 1565, 1580, 1595, 1610, 1625, 1640,\n",
       "       1655, 1670, 1685, 1700, 1715, 1730, 1745, 1760, 1775, 1790, 1805,\n",
       "       1820, 1835, 1850, 1865, 1880, 1895, 1910, 1925, 1940, 1955, 1970,\n",
       "       1985, 2000, 2015, 2030, 2045, 2060, 2075, 2090, 2105, 2120, 2135,\n",
       "       2150, 2165, 2180, 2195, 2210, 2225, 2240, 2255, 2270, 2285, 2300,\n",
       "       2315, 2330, 2345, 2360, 2375, 2390, 2405, 2420, 2435, 2450, 2465,\n",
       "       2480, 2495, 2510, 2525, 2540, 2555, 2570, 2585, 2600, 2615, 2630,\n",
       "       2645, 2660, 2675, 2690, 2705, 2720, 2735, 2750, 2765, 2780, 2795,\n",
       "       2810, 2825, 2840, 2855, 2870, 2885, 2900, 2915, 2930, 2945, 2960,\n",
       "       2975, 2990, 3005, 3020, 3035, 3050, 3065, 3080, 3095, 3110, 3125,\n",
       "       3140, 3155, 3170, 3185, 3200, 3215, 3230, 3245, 3260, 3275, 3290,\n",
       "       3305, 3320, 3335, 3350, 3365, 3380, 3395, 3410, 3425, 3440, 3455,\n",
       "       3470, 3485, 3500, 3515, 3530, 3545, 3560, 3575, 3590, 3605, 3620,\n",
       "       3635, 3650, 3665, 3680, 3695, 3710, 3725, 3740, 3755, 3770, 3785,\n",
       "       3800, 3815, 3830, 3845, 3860, 3875, 3890, 3905, 3920, 3935, 3950,\n",
       "       3965, 3980, 3995, 4010, 4025, 4040, 4055, 4070, 4085, 4100, 4115,\n",
       "       4130, 4145, 4160, 4175, 4190, 4205, 4220, 4235, 4250, 4265, 4280,\n",
       "       4295, 4310, 4325, 4340, 4355, 4370, 4385, 4400, 4415, 4430, 4445,\n",
       "       4460, 4475, 4490, 4505, 4520, 4535, 4550, 4565, 4580, 4595, 4610,\n",
       "       4625, 4640, 4655, 4670, 4685, 4700, 4715, 4730, 4745, 4760, 4775,\n",
       "       4790, 4805, 4820, 4835, 4850, 4865, 4880, 4895, 4910, 4925, 4940,\n",
       "       4955, 4970, 4985, 5000, 5015, 5030, 5045, 5060, 5075, 5090, 5105,\n",
       "       5120, 5135, 5150, 5165, 5180, 5195, 5210, 5225, 5240, 5255, 5270,\n",
       "       5285, 5300, 5315, 5330, 5345, 5360, 5375, 5390, 5405, 5420, 5435,\n",
       "       5450, 5465, 5480, 5495, 5510, 5525, 5540, 5555, 5570, 5585, 5600,\n",
       "       5615, 5630, 5645, 5660, 5675, 5690, 5705, 5720, 5735, 5750, 5765,\n",
       "       5780, 5795, 5810, 5825, 5840, 5855, 5870, 5885, 5900, 5915, 5930,\n",
       "       5945, 5960, 5975, 5990, 6005, 6020, 6035, 6050, 6065, 6080, 6095,\n",
       "       6110, 6125, 6140, 6155, 6170, 6185, 6200, 6215, 6230, 6245, 6260,\n",
       "       6275, 6290, 6305, 6320, 6335, 6350, 6365, 6380, 6395, 6410, 6425,\n",
       "       6440, 6455, 6470, 6485, 6500, 6515, 6530, 6545, 6560, 6575, 6590,\n",
       "       6605, 6620, 6635, 6650, 6665, 6680, 6695, 6710, 6725, 6740, 6755,\n",
       "       6770, 6785, 6800, 6815, 6830, 6845, 6860, 6875, 6890, 6905, 6920,\n",
       "       6935, 6950, 6965, 6980, 6995, 7010, 7025, 7040, 7055, 7070, 7085,\n",
       "       7100, 7115, 7130, 7145, 7160, 7175, 7190, 7205, 7220, 7235, 7250,\n",
       "       7265, 7280, 7295, 7310, 7325, 7340, 7355, 7370, 7385, 7400, 7415,\n",
       "       7430, 7445, 7460, 7475, 7490, 7505, 7520, 7535, 7550, 7565, 7580,\n",
       "       7595, 7610, 7625, 7640, 7655, 7670, 7685, 7700, 7715, 7730, 7745,\n",
       "       7760, 7775, 7790, 7805, 7820, 7835, 7850, 7865, 7880, 7895, 7910,\n",
       "       7925, 7940, 7955, 7970, 7985, 8000, 8015, 8030, 8045, 8060, 8075,\n",
       "       8090, 8105, 8120, 8135, 8150, 8165, 8180, 8195, 8210, 8225, 8240,\n",
       "       8255, 8270, 8285, 8300, 8315, 8330, 8345, 8360, 8375, 8390, 8405,\n",
       "       8420, 8435, 8450, 8465, 8480, 8495, 8510, 8525, 8540, 8555, 8570,\n",
       "       8585, 8600, 8615, 8630, 8645, 8660, 8675, 8690, 8705, 8720, 8735,\n",
       "       8750, 8765, 8780, 8795, 8810, 8825, 8840, 8855, 8870, 8885, 8900,\n",
       "       8915, 8930, 8945, 8960, 8975, 8990, 9005, 9020, 9035, 9050, 9065,\n",
       "       9080, 9095, 9110, 9125, 9140, 9155, 9170, 9185, 9200, 9215, 9230,\n",
       "       9245, 9260, 9275, 9290, 9305, 9320, 9335, 9350, 9365, 9380, 9395,\n",
       "       9410, 9425, 9440, 9455, 9470, 9485, 9500, 9515, 9530, 9545, 9560,\n",
       "       9575, 9590, 9605, 9620, 9635, 9650, 9665, 9680, 9695, 9710, 9725,\n",
       "       9740, 9755, 9770, 9785, 9800, 9815, 9830, 9845, 9860, 9875, 9890,\n",
       "       9905, 9920, 9935, 9950, 9965, 9980, 9995])"
      ]
     },
     "execution_count": 26,
     "metadata": {},
     "output_type": "execute_result"
    }
   ],
   "source": [
    "np.arange(5,10000,15)"
   ]
  },
  {
   "cell_type": "code",
   "execution_count": 27,
   "id": "abbaeded-2927-466b-80c4-74496e84dbc3",
   "metadata": {},
   "outputs": [
    {
     "data": {
      "text/plain": [
       "array([[ 0,  1,  2,  3,  4],\n",
       "       [ 5,  6,  7,  8,  9],\n",
       "       [10, 11, 12, 13, 14]])"
      ]
     },
     "execution_count": 27,
     "metadata": {},
     "output_type": "execute_result"
    }
   ],
   "source": [
    "a= np.array([1,2,3])"
   ]
  },
  {
   "cell_type": "code",
   "execution_count": 37,
   "id": "185aa090-844d-425d-81a9-821cd983f086",
   "metadata": {},
   "outputs": [],
   "source": [
    "a= np.array([1,2,3,4,5])"
   ]
  },
  {
   "cell_type": "code",
   "execution_count": 35,
   "id": "078f817f-da44-4d0e-b35e-f37072ac23ee",
   "metadata": {},
   "outputs": [],
   "source": [
    "t=np.ones((10, 5))"
   ]
  },
  {
   "cell_type": "code",
   "execution_count": 36,
   "id": "a15cd49e-f567-4725-93c7-de617dd63ae9",
   "metadata": {},
   "outputs": [
    {
     "data": {
      "text/plain": [
       "array([[1., 1., 1., 1., 1.],\n",
       "       [1., 1., 1., 1., 1.],\n",
       "       [1., 1., 1., 1., 1.],\n",
       "       [1., 1., 1., 1., 1.],\n",
       "       [1., 1., 1., 1., 1.],\n",
       "       [1., 1., 1., 1., 1.],\n",
       "       [1., 1., 1., 1., 1.],\n",
       "       [1., 1., 1., 1., 1.],\n",
       "       [1., 1., 1., 1., 1.],\n",
       "       [1., 1., 1., 1., 1.]])"
      ]
     },
     "execution_count": 36,
     "metadata": {},
     "output_type": "execute_result"
    }
   ],
   "source": [
    "t"
   ]
  },
  {
   "cell_type": "code",
   "execution_count": 38,
   "id": "503ff925-683f-462a-9e40-848f023e98fc",
   "metadata": {},
   "outputs": [],
   "source": [
    "a= np.array([1,2,3,4,5])"
   ]
  },
  {
   "cell_type": "code",
   "execution_count": 40,
   "id": "ce4ee71d-09f7-472e-8dc6-c9486f941060",
   "metadata": {},
   "outputs": [
    {
     "data": {
      "text/plain": [
       "array([1, 2, 3, 4, 5])"
      ]
     },
     "execution_count": 40,
     "metadata": {},
     "output_type": "execute_result"
    }
   ],
   "source": [
    "a"
   ]
  },
  {
   "cell_type": "code",
   "execution_count": 42,
   "id": "258d48a7-0022-46e4-9923-9c9b5347e1f1",
   "metadata": {},
   "outputs": [
    {
     "data": {
      "text/plain": [
       "15"
      ]
     },
     "execution_count": 42,
     "metadata": {},
     "output_type": "execute_result"
    }
   ],
   "source": [
    "a.sum()\n"
   ]
  },
  {
   "cell_type": "code",
   "execution_count": 43,
   "id": "6b7d6c4b-62fa-4755-b70a-44ccd829e420",
   "metadata": {},
   "outputs": [],
   "source": [
    "x= np.array([(1,2,3),(3,4,5)])\n",
    "y= np.array([(1,2,3),(3,4,5)])\n"
   ]
  },
  {
   "cell_type": "code",
   "execution_count": 44,
   "id": "c443cc61-95cb-4070-bb29-f0792209d913",
   "metadata": {},
   "outputs": [
    {
     "name": "stdout",
     "output_type": "stream",
     "text": [
      "[[ 2  4  6]\n",
      " [ 6  8 10]]\n"
     ]
    }
   ],
   "source": [
    "print(x+y)"
   ]
  },
  {
   "cell_type": "code",
   "execution_count": 45,
   "id": "36f5d99d-a083-4119-a35b-8bc0fd6052c0",
   "metadata": {},
   "outputs": [
    {
     "name": "stdout",
     "output_type": "stream",
     "text": [
      "[[0 0 0]\n",
      " [0 0 0]]\n",
      "[[ 1  4  9]\n",
      " [ 9 16 25]]\n",
      "[[1. 1. 1.]\n",
      " [1. 1. 1.]]\n"
     ]
    }
   ],
   "source": [
    "print(x-y)\n",
    "print(x*y)\n",
    "print(x/y)\n"
   ]
  },
  {
   "cell_type": "code",
   "execution_count": 46,
   "id": "d14e862b-5741-428d-92f0-69184e02b95e",
   "metadata": {},
   "outputs": [
    {
     "name": "stdout",
     "output_type": "stream",
     "text": [
      "[[1.         1.41421356 1.73205081]\n",
      " [1.73205081 2.         2.23606798]]\n",
      "1.2909944487358056\n"
     ]
    }
   ],
   "source": [
    "a=np.array([(1,2,3),(3,4,5,)])\n",
    "print(np.sqrt(a))\n",
    "print(np.std(a))"
   ]
  },
  {
   "cell_type": "code",
   "execution_count": 47,
   "id": "72cc8e14-b5ac-4fe0-9a3b-7b8603717a1d",
   "metadata": {},
   "outputs": [
    {
     "data": {
      "text/plain": [
       "3.0"
      ]
     },
     "execution_count": 47,
     "metadata": {},
     "output_type": "execute_result"
    }
   ],
   "source": [
    "np.median(a)"
   ]
  },
  {
   "cell_type": "code",
   "execution_count": 48,
   "id": "fc46f230-a5a6-41ba-8195-c6719fba4175",
   "metadata": {},
   "outputs": [],
   "source": [
    "import matplotlib.pyplot as plt"
   ]
  },
  {
   "cell_type": "code",
   "execution_count": 49,
   "id": "f92fae7c-9d5e-4b01-a7b0-aed95167a561",
   "metadata": {},
   "outputs": [
    {
     "data": {
      "image/png": "[encoded data removed]",
      "text/plain": [
       "<Figure size 432x288 with 1 Axes>"
      ]
     },
     "metadata": {
      "needs_background": "light"
     },
     "output_type": "display_data"
    }
   ],
   "source": [
    "x= np.arange(0,3*np.pi,0.1)\n",
    "y=np.sin(x)\n",
    "plt.plot(x,y)\n",
    "plt.show()"
   ]
  },
  {
   "cell_type": "code",
   "execution_count": 50,
   "id": "730623d0-2139-4178-b3b4-aea2d597825c",
   "metadata": {},
   "outputs": [
    {
     "data": {
      "image/png": "[encoded data removed]",
      "text/plain": [
       "<Figure size 432x288 with 1 Axes>"
      ]
     },
     "metadata": {
      "needs_background": "light"
     },
     "output_type": "display_data"
    }
   ],
   "source": [
    "x= np.arange(0,3*np.pi,0.1)\n",
    "y=np.tan(x)\n",
    "plt.plot(x,y)\n",
    "plt.show()"
   ]
  },
  {
   "cell_type": "code",
   "execution_count": 51,
   "id": "2e43c149-49a1-4c62-a25b-dab917383b0e",
   "metadata": {},
   "outputs": [
    {
     "data": {
      "image/png": "[encoded data removed]",
      "text/plain": [
       "<Figure size 432x288 with 1 Axes>"
      ]
     },
     "metadata": {
      "needs_background": "light"
     },
     "output_type": "display_data"
    }
   ],
   "source": [
    "rg = np.random.default_rng(1)\n",
    "mu, sigma = 2, 0.5\n",
    "v = rg.normal(mu, sigma, 10000)\n",
    "plt.hist(v, bins=50, density=True)\n",
    "(n, bins) = np.histogram(v, bins=50, density=True)\n",
    "plt.plot(.5 * (bins[1:] + bins[:-1]), n)\n",
    "mu, sigma = 2, 0.5"
   ]
  },
  {
   "cell_type": "code",
   "execution_count": 52,
   "id": "474e6faf-7b71-4c33-bb87-6d2787daaa55",
   "metadata": {},
   "outputs": [],
   "source": [
    "def mandelbrot(h, w, maxit=20, r=2):\n",
    "...     \"\"\"Returns an image of the Mandelbrot fractal of size (h,w).\"\"\"\n",
    "...     x = np.linspace(-2.5, 1.5, 4*h+1)\n",
    "...     y = np.linspace(-1.5, 1.5, 3*w+1)\n",
    "...     A, B = np.meshgrid(x, y)\n",
    "...     C = A + B*1j\n",
    "...     z = np.zeros_like(C)\n",
    "...     divtime = maxit + np.zeros(z.shape, dtype=int)\n",
    "...\n",
    "...     for i in range(maxit):\n",
    "...         z = z**2 + C\n",
    "...         diverge = abs(z) > r                    # who is diverging\n",
    "...         div_now = diverge & (divtime == maxit)  # who is diverging now\n",
    "...         divtime[div_now] = i                    # note when\n",
    "...         z[diverge] = r                          # avoid diverging too much\n",
    "...\n",
    "...     return divtime"
   ]
  },
  {
   "cell_type": "code",
   "execution_count": 54,
   "id": "bf105588-ae20-43a8-92a6-39ff6d17d162",
   "metadata": {},
   "outputs": [
    {
     "data": {
      "text/plain": [
       "<matplotlib.image.AxesImage at 0x7ffb08411a90>"
      ]
     },
     "execution_count": 54,
     "metadata": {},
     "output_type": "execute_result"
    },
    {
     "data": {
      "image/png": "[encoded data removed]",
      "text/plain": [
       "<Figure size 432x288 with 1 Axes>"
      ]
     },
     "metadata": {
      "needs_background": "light"
     },
     "output_type": "display_data"
    }
   ],
   "source": [
    "plt.imshow(mandelbrot(800, 800))"
   ]
  }
 ],
 "metadata": {
  "kernelspec": {
   "display_name": "Python 3 (ipykernel)",
   "language": "python",
   "name": "python3"
  },
  "language_info": {
   "codemirror_mode": {
    "name": "ipython",
    "version": 3
   },
   "file_extension": ".py",
   "mimetype": "text/x-python",
   "name": "python",
   "nbconvert_exporter": "python",
   "pygments_lexer": "ipython3",
   "version": "3.8.10"
  }
 },
 "nbformat": 4,
 "nbformat_minor": 5
}
