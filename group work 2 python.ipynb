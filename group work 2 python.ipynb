{
 "cells": [
  {
   "cell_type": "markdown",
   "metadata": {},
   "source": [
    "Consider the two matrices\n",
    "A  = [[ 1  3 -2]\n",
    "      [ 0  4  7]\n",
    "      [-1  2  6]]\n",
    "\n",
    "\n",
    "B  = [[0 1]\n",
    "     [1 3]\n",
    "     [2 1]]\n",
    "\n",
    "    \n",
    "    (3,3) (3,2) "
   ]
  },
  {
   "cell_type": "code",
   "execution_count": 14,
   "metadata": {},
   "outputs": [
    {
     "name": "stdout",
     "output_type": "stream",
     "text": [
      "Matrix A= \n",
      "[[ 1  3 -2]\n",
      " [ 0  4  7]\n",
      " [-1  2  6]]\n",
      "\n",
      "Matrix B= \n",
      "[[0 1]\n",
      " [1 3]\n",
      " [2 1]]\n",
      "\n"
     ]
    }
   ],
   "source": [
    "import numpy as np \n",
    "\n",
    "A =np.matrix([[1,3,-2],[0,4,7],[-1,2,6]])\n",
    "B = np.matrix([[0,1],[1,3],[2,1]])\n",
    "print(f\"Matrix A= \\n{A}\\n\")\n",
    "print(f\"Matrix B= \\n{B}\\n\")"
   ]
  },
  {
   "cell_type": "markdown",
   "metadata": {},
   "source": [
    "(1)\tFind the component-wise sum of the matrix A with itself."
   ]
  },
  {
   "cell_type": "code",
   "execution_count": 15,
   "metadata": {},
   "outputs": [
    {
     "name": "stdout",
     "output_type": "stream",
     "text": [
      "[[ 2  6 -4]\n",
      " [ 0  8 14]\n",
      " [-2  4 12]]\n"
     ]
    }
   ],
   "source": [
    "\n",
    "print(A+A)\n"
   ]
  },
  {
   "cell_type": "markdown",
   "metadata": {},
   "source": [
    "(2)\tFind the transpose of each of matrix A and matrix B."
   ]
  },
  {
   "cell_type": "code",
   "execution_count": 16,
   "metadata": {},
   "outputs": [
    {
     "name": "stdout",
     "output_type": "stream",
     "text": [
      "Matrix A before:\n",
      "[[ 1  3 -2]\n",
      " [ 0  4  7]\n",
      " [-1  2  6]]\n",
      "Matrix A After:\n",
      "[[ 1  0 -1]\n",
      " [ 3  4  2]\n",
      " [-2  7  6]]\n",
      "\n",
      "Matrix B before:\n",
      "[[0 1]\n",
      " [1 3]\n",
      " [2 1]]\n",
      "Matrix B After:\n",
      "[[0 1 2]\n",
      " [1 3 1]]\n"
     ]
    }
   ],
   "source": [
    "print(f\"Matrix A before:\\n{A}\")\n",
    "print(f\"Matrix A After:\\n{A.T}\\n\")\n",
    "print(f\"Matrix B before:\\n{B}\")\n",
    "print(f\"Matrix B After:\\n{B.T}\")\n",
    "#print(A.T)\n",
    "#print(B.T)"
   ]
  },
  {
   "cell_type": "markdown",
   "metadata": {},
   "source": [
    "(3)\tFind the inverse of matrix A."
   ]
  },
  {
   "cell_type": "code",
   "execution_count": 17,
   "metadata": {},
   "outputs": [
    {
     "name": "stdout",
     "output_type": "stream",
     "text": [
      "[[-0.52631579  1.15789474 -1.52631579]\n",
      " [ 0.36842105 -0.21052632  0.36842105]\n",
      " [-0.21052632  0.26315789 -0.21052632]]\n"
     ]
    }
   ],
   "source": [
    "print(A.I)"
   ]
  },
  {
   "cell_type": "markdown",
   "metadata": {},
   "source": [
    "(4)\tFind the matrix product AB."
   ]
  },
  {
   "cell_type": "code",
   "execution_count": 18,
   "metadata": {},
   "outputs": [
    {
     "name": "stdout",
     "output_type": "stream",
     "text": [
      "Matrix A= \n",
      " [[ 1  3 -2]\n",
      " [ 0  4  7]\n",
      " [-1  2  6]]\n",
      "Matrix B= \n",
      " [[0 1]\n",
      " [1 3]\n",
      " [2 1]]\n",
      "\n",
      "Matrix A*B= \n",
      " [[-1  8]\n",
      " [18 19]\n",
      " [14 11]]\n"
     ]
    }
   ],
   "source": [
    "print (\"Matrix A= \\n\",A)\n",
    "print (\"Matrix B= \\n\",B)\n",
    "AB= A*B\n",
    "print (\"\\nMatrix A*B= \\n\",AB)"
   ]
  },
  {
   "cell_type": "markdown",
   "metadata": {},
   "source": [
    "(5)\tReshape the matrix B to be of size 2 x 3 (as opposed to its current size of 3 x 2).  Store the result as matrix C."
   ]
  },
  {
   "cell_type": "code",
   "execution_count": 19,
   "metadata": {},
   "outputs": [
    {
     "name": "stdout",
     "output_type": "stream",
     "text": [
      "Matrix B: \n",
      " [[0 1]\n",
      " [1 3]\n",
      " [2 1]]\n",
      "\n",
      "Matrix C:\n",
      " [[0 1 1]\n",
      " [3 2 1]]\n"
     ]
    }
   ],
   "source": [
    "print(\"Matrix B: \\n\",B)\n",
    "C=np.reshape(B,(2,3))\n",
    "print(\"\\nMatrix C:\\n\",C)"
   ]
  },
  {
   "cell_type": "markdown",
   "metadata": {},
   "source": [
    "(6)\tFind the matrix product CA. "
   ]
  },
  {
   "cell_type": "code",
   "execution_count": 20,
   "metadata": {},
   "outputs": [
    {
     "name": "stdout",
     "output_type": "stream",
     "text": [
      "Matrix C:\n",
      " [[0 1 1]\n",
      " [3 2 1]]\n",
      "Matrix A:\n",
      " [[ 1  3 -2]\n",
      " [ 0  4  7]\n",
      " [-1  2  6]]\n",
      "\n",
      "Matrix product of CA:\n",
      " [[-1  6 13]\n",
      " [ 2 19 14]]\n"
     ]
    }
   ],
   "source": [
    "print(\"Matrix C:\\n\",C)\n",
    "print(\"Matrix A:\\n\",A)\n",
    "CA = C.dot(A)\n",
    "print(\"\\nMatrix product of CA:\\n\",CA)"
   ]
  },
  {
   "cell_type": "markdown",
   "metadata": {},
   "source": [
    "(7)\tReplace all the odd entries of matrix A with the value -1.  Store the result as matrix D."
   ]
  },
  {
   "cell_type": "code",
   "execution_count": 21,
   "metadata": {},
   "outputs": [
    {
     "name": "stdout",
     "output_type": "stream",
     "text": [
      "Matrix A:\n",
      " [[ 1  3 -2]\n",
      " [ 0  4  7]\n",
      " [-1  2  6]]\n",
      "\n",
      " Matrix D:\n",
      " [[-1 -1 -2]\n",
      " [ 0  4 -1]\n",
      " [-1  2  6]]\n"
     ]
    }
   ],
   "source": [
    "print(\"Matrix A:\\n\",A)\n",
    "D=A\n",
    "D[D%2 !=0 ]=-1 \n",
    "print(\"\\n Matrix D:\\n\",D)         "
   ]
  },
  {
   "cell_type": "markdown",
   "metadata": {},
   "source": [
    "(8)\tCreate a new matrix whose entries are the sums of the rows of matrix A."
   ]
  },
  {
   "cell_type": "code",
   "execution_count": 22,
   "metadata": {},
   "outputs": [
    {
     "name": "stdout",
     "output_type": "stream",
     "text": [
      "Matrix A:\n",
      " [[-1 -1 -2]\n",
      " [ 0  4 -1]\n",
      " [-1  2  6]]\n",
      "\n",
      " Matrix E:\n",
      " [[-4]\n",
      " [ 3]\n",
      " [ 7]]\n"
     ]
    }
   ],
   "source": [
    "print(\"Matrix A:\\n\",A)\n",
    "E=np.sum(A, axis=1)\n",
    "print(\"\\n Matrix E:\\n\",E)"
   ]
  },
  {
   "cell_type": "markdown",
   "metadata": {},
   "source": [
    "(9)\tCreate a new matrix whose entries are the means of the columns of matrix A"
   ]
  },
  {
   "cell_type": "code",
   "execution_count": 23,
   "metadata": {},
   "outputs": [
    {
     "name": "stdout",
     "output_type": "stream",
     "text": [
      "Matrix A:\n",
      " [[-1 -1 -2]\n",
      " [ 0  4 -1]\n",
      " [-1  2  6]]\n",
      "\n",
      "The Means of matrix A columns:\n",
      " [[-4]\n",
      " [ 3]\n",
      " [ 7]]\n"
     ]
    }
   ],
   "source": [
    "\n",
    "print(\"Matrix A:\\n\",A)\n",
    "F=np.mean(A,axis=0)\n",
    "print(\"\\nThe Means of matrix A columns:\\n\",E)"
   ]
  },
  {
   "cell_type": "markdown",
   "metadata": {},
   "source": [
    "(10)\tFind the component-wise square root of matrix B."
   ]
  },
  {
   "cell_type": "code",
   "execution_count": 24,
   "metadata": {},
   "outputs": [
    {
     "name": "stdout",
     "output_type": "stream",
     "text": [
      "Matrix B:\n",
      " [[0 1]\n",
      " [1 3]\n",
      " [2 1]]\n",
      "\n",
      "The square root of matrix B:\n",
      " [[0 1]\n",
      " [1 3]\n",
      " [2 1]]\n"
     ]
    }
   ],
   "source": [
    "\n",
    "print(\"Matrix B:\\n\",B)\n",
    "H=np.sqrt(B)\n",
    "print(\"\\nThe square root of matrix B:\\n\",B)"
   ]
  }
 ],
 "metadata": {
  "interpreter": {
   "hash": "4b9a0c280fc50c2b36decad68c359aa613eb96441a8d33c29b2a9ec218cec8cd"
  },
  "kernelspec": {
   "display_name": "Python 3.8.8 64-bit ('base': conda)",
   "name": "python3"
  },
  "language_info": {
   "codemirror_mode": {
    "name": "ipython",
    "version": 3
   },
   "file_extension": ".py",
   "mimetype": "text/x-python",
   "name": "python",
   "nbconvert_exporter": "python",
   "pygments_lexer": "ipython3",
   "version": "3.8.8"
  },
  "orig_nbformat": 4
 },
 "nbformat": 4,
 "nbformat_minor": 2
}
