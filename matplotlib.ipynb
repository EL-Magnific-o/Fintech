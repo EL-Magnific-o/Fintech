{
 "cells": [
  {
   "cell_type": "markdown",
   "metadata": {},
   "source": [
    "(1)\tPlot the following points on a two-dimensional scatterplot:                                                       (1, 2), (4, 7), (-1, 3), (0,-1), (-2, -3)\n",
    "a.\tMake the point (1, 2) a red dot.\n",
    "b.\tMake the point (4, 7) a green star.\n",
    "c.\tMake the point (-1, 3) a yellow square.\n",
    "d.\tMake the points (0, -1) and (-2, -3) any two other symbols.\n",
    "e.\tAdd axis and plot titles.  The plot title should be “Scatter Plot”.  The x- and y-axis titles should be “X AXIS” and “Y AXIS”, respectively.\n",
    "(2)\tMake a bar graph with six (6) bars – one for each of the categories “A”, “B”, “C”, “D”, “E”, and “F”.  The heights of the bars should be 7, 3, 12, 4, 2, and 1, respectively.\n",
    "(3)\tMake a line graph of the line y = 2x + 3.\n",
    "(4)\tMake a pie graph that shows percent world population by continent.  You will need to look up data online to create your pie chart.\n"
   ]
  },
  {
   "cell_type": "code",
   "execution_count": 5,
   "metadata": {},
   "outputs": [
    {
     "data": {
      "image/png": "[encoded data removed]",
      "text/plain": [
       "<Figure size 432x288 with 1 Axes>"
      ]
     },
     "metadata": {
      "needs_background": "light"
     },
     "output_type": "display_data"
    }
   ],
   "source": [
    "from matplotlib import pyplot as plt\n",
    "fig = plt.figure()\n",
    "ax = fig.add_axes([0,0,1,1])\n",
    "x = [1,4,-1,0,-2]\n",
    "y = [2,7,3,-1,-3]\n",
    "colors = ['r','g','y','b','c']\n",
    "shapes = ['o','*','s','^','p']\n",
    "ax.set_xlabel('X AXIS')\n",
    "ax.set_ylabel('Y AXIS')\n",
    "for i in range(len(x)):\n",
    "    ax.scatter(x[i],y[i], color=colors[i], marker=shapes[i])\n",
    "ax.set_title('scatter plot')\n",
    "plt.show()    \n"
   ]
  },
  {
   "cell_type": "markdown",
   "metadata": {},
   "source": [
    "another way to solve it \n"
   ]
  },
  {
   "cell_type": "code",
   "execution_count": 6,
   "metadata": {},
   "outputs": [
    {
     "data": {
      "image/png": "[encoded data removed]",
      "text/plain": [
       "<Figure size 432x288 with 1 Axes>"
      ]
     },
     "metadata": {
      "needs_background": "light"
     },
     "output_type": "display_data"
    }
   ],
   "source": [
    "from matplotlib import pyplot as plt\n",
    "fig = plt.figure()\n",
    "ax = fig.add_axes([0, 0, 1, 1])\n",
    "x_values = [1, 4, -1, 0, -2]\n",
    "y_values = [2, 7, 3, -1, -3]\n",
    "ax.scatter(x_values[0],y_values[0], color = 'r',marker='.')\n",
    "ax.scatter(x_values[1],y_values[1], color = 'g',marker='*')\n",
    "ax.scatter(x_values[2],y_values[2], color = 'y',marker='s')\n",
    "ax.set_xlabel('X AXIS')\n",
    "ax.set_ylabel('Y AXIS')\n",
    "ax.set_title ('Scatter Plot')\n",
    "plt.show()\n"
   ]
  }
 ],
 "metadata": {
  "interpreter": {
   "hash": "4b9a0c280fc50c2b36decad68c359aa613eb96441a8d33c29b2a9ec218cec8cd"
  },
  "kernelspec": {
   "display_name": "Python 3.8.8 64-bit ('base': conda)",
   "name": "python3"
  },
  "language_info": {
   "codemirror_mode": {
    "name": "ipython",
    "version": 3
   },
   "file_extension": ".py",
   "mimetype": "text/x-python",
   "name": "python",
   "nbconvert_exporter": "python",
   "pygments_lexer": "ipython3",
   "version": "3.8.8"
  },
  "orig_nbformat": 4
 },
 "nbformat": 4,
 "nbformat_minor": 2
}
