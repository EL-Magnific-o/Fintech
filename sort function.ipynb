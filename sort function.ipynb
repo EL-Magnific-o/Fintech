{
 "cells": [
  {
   "cell_type": "markdown",
   "metadata": {},
   "source": [
    "[1,-5,10,6,3,-4,-9]\n",
    "\n",
    "len = 7"
   ]
  },
  {
   "cell_type": "code",
   "execution_count": 15,
   "metadata": {},
   "outputs": [
    {
     "name": "stdout",
     "output_type": "stream",
     "text": [
      "[-9, -5, -4, 1, 3, 6, 10]\n"
     ]
    }
   ],
   "source": [
    "my_list = [1,-5,10,6,3,-4,-9]\n",
    "\n",
    "for i in range(len(my_list)):\n",
    "    for j in range(i + 1, len(my_list)):\n",
    "\n",
    "        if my_list[i] > my_list[j]:\n",
    "           my_list[i], my_list[j] = my_list[j], my_list[i]\n",
    "\n",
    "print (my_list)"
   ]
  },
  {
   "cell_type": "code",
   "execution_count": 1,
   "metadata": {},
   "outputs": [
    {
     "name": "stdout",
     "output_type": "stream",
     "text": [
      "[1, 2, 3, 6, 7]\n"
     ]
    }
   ],
   "source": [
    "def selection_sort(list_of_integers):\n",
    "    for i in range(len(list_of_integers)):\n",
    "        for j in range(i+1, len(list_of_integers)):\n",
    "            if list_of_integers[i] > list_of_integers[j]:\n",
    "                list_of_integers[i], list_of_integers[j] = list_of_integers[j], list_of_integers[i]\n",
    "            #print(list_of_integers)\n",
    "    sorted_list_of_integers = list_of_integers\n",
    "    return(sorted_list_of_integers)\n",
    "\n",
    "\n",
    "print(selection_sort([2, 6, 3, 1, 7]))"
   ]
  },
  {
   "cell_type": "code",
   "execution_count": null,
   "metadata": {},
   "outputs": [],
   "source": [
    "def bubble_sort(list_of_integers):\n",
    "    flag = True\n",
    "    while flag:\n",
    "        flag = False\n",
    "        for i in range(len(list_of_integers)-1):\n",
    "            if list_of_integers[i] > list_of_integers[i+1]:\n",
    "                #list_of_integers[i] = list_of_integers[i+1]\n",
    "                #list_of_integers[i+1] = list_of_integers[i]\n",
    "                #Why doesn't this work?                \n",
    "                list_of_integers[i], list_of_integers[i+1] = list_of_integers[i+1], list_of_integers[i]\n",
    "                flag = True\n",
    "                print(list_of_integers)\n",
    "    sorted_list_of_integers = list_of_integers\n",
    "    return (sorted_list_of_integers)\n",
    "\n",
    "print(bubble_sort([2, 6, 3, 1, 7]))"
   ]
  }
 ],
 "metadata": {
  "interpreter": {
   "hash": "4b9a0c280fc50c2b36decad68c359aa613eb96441a8d33c29b2a9ec218cec8cd"
  },
  "kernelspec": {
   "display_name": "Python 3.8.8 64-bit ('base': conda)",
   "name": "python3"
  },
  "language_info": {
   "codemirror_mode": {
    "name": "ipython",
    "version": 3
   },
   "file_extension": ".py",
   "mimetype": "text/x-python",
   "name": "python",
   "nbconvert_exporter": "python",
   "pygments_lexer": "ipython3",
   "version": "3.8.8"
  },
  "orig_nbformat": 4
 },
 "nbformat": 4,
 "nbformat_minor": 2
}
