{
 "cells": [
  {
   "cell_type": "code",
   "execution_count": 8,
   "metadata": {},
   "outputs": [],
   "source": [
    "import hashlib # imports library with SHA-256 hashing algo\n",
    "import datetime # imports library to track time"
   ]
  },
  {
   "cell_type": "code",
   "execution_count": 16,
   "metadata": {},
   "outputs": [],
   "source": [
    "def mining(num_of_zero,nonce,zeros):\n",
    "    t1 = datetime.datetime.now()\n",
    "\n",
    "    nonce = 1\n",
    "\n",
    "\n",
    "\n",
    "    solution = False\n",
    "\n",
    "    while solution == False: # loop until true\n",
    "        ourhash = hashlib.sha256(str(nonce).encode()).hexdigest() # inputs nonce into hash function\n",
    "        if ourhash[:num_of_zero] == zeros: # look for hash with 7 proceeding zeros\n",
    "            solution =True # those who find the solution will have 'proved' they put in 'work'\n",
    "        nonce +=1 # increase nonce by 1 and try again\n",
    "\n",
    "    t2 = datetime.datetime.now() # end time \n",
    "    duration = t2 - t1 # time elapsed\n",
    "    print (\"The hash is:\",ourhash)\n",
    "    print (\"The nonce is:\",nonce)    \n",
    "    print (\"Time elapsed:\",duration)"
   ]
  },
  {
   "cell_type": "code",
   "execution_count": 18,
   "metadata": {},
   "outputs": [
    {
     "name": "stdout",
     "output_type": "stream",
     "text": [
      "The hash is: 0000000399c6aea5ad0c709a9bc331a3ed6494702bd1d129d8c817a0257a1462\n",
      "The nonce is: 665783\n",
      "Time elapsed: 0:00:01.451705\n"
     ]
    }
   ],
   "source": [
    "mining(7,1,'0000000')"
   ]
  },
  {
   "cell_type": "code",
   "execution_count": 19,
   "metadata": {},
   "outputs": [
    {
     "name": "stdout",
     "output_type": "stream",
     "text": [
      "The hash is: 00000000690ed426ccf17803ebe2bd0884bcd58a1bb5e7477ead3645f356e7a9\n",
      "The nonce is: 426479725\n",
      "Time elapsed: 0:12:58.836411\n"
     ]
    }
   ],
   "source": [
    "mining(8,1,'00000000')"
   ]
  }
 ],
 "metadata": {
  "interpreter": {
   "hash": "4b9a0c280fc50c2b36decad68c359aa613eb96441a8d33c29b2a9ec218cec8cd"
  },
  "kernelspec": {
   "display_name": "Python 3.8.8 64-bit ('base': conda)",
   "language": "python",
   "name": "python3"
  },
  "language_info": {
   "codemirror_mode": {
    "name": "ipython",
    "version": 3
   },
   "file_extension": ".py",
   "mimetype": "text/x-python",
   "name": "python",
   "nbconvert_exporter": "python",
   "pygments_lexer": "ipython3",
   "version": "3.8.8"
  },
  "orig_nbformat": 4
 },
 "nbformat": 4,
 "nbformat_minor": 2
}
