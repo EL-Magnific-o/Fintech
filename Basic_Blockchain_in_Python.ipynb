{
 "cells": [
  {
   "cell_type": "code",
   "execution_count": 1,
   "metadata": {},
   "outputs": [],
   "source": [
    "from hashlib import sha256\n",
    "import datetime\n",
    "import time\n",
    "import json"
   ]
  },
  {
   "cell_type": "code",
   "execution_count": 2,
   "metadata": {},
   "outputs": [],
   "source": [
    "#Eg:\n",
    "tx_1 = {\n",
    "   \"addr_from\": \"3J98t1WpEZ73CNmQviecrnyiWrnqRhWNLy\",\n",
    "   \"addr_to\": \"1BvBMSEYstWetqTFn5Au4m4GFg7xJaNVN2\",   \n",
    "   \"amount\": 99.00\n",
    "}\n",
    "tx_2 = {\n",
    "   \"addr_from\": \"5J98t1WpEZ73CNmQviecrnyiWrnqRhWNLy\",\n",
    "   \"addr_to\": \"2BvBMSEYstWetqTFn5Au4m4GFg7xJaNVN2\",   \n",
    "   \"amount\": 150.00\n",
    "}"
   ]
  },
  {
   "cell_type": "code",
   "execution_count": 3,
   "metadata": {},
   "outputs": [],
   "source": [
    "class Block:      \n",
    "    def __init__(self, index, transactions, timestamp, previous_hash, nonce=0):\n",
    "        self.index = index\n",
    "        self.transactions = transactions\n",
    "        self.timestamp = timestamp\n",
    "        self.previous_hash = previous_hash\n",
    "        self.nonce = nonce\n",
    "        \n",
    "    def compute_hash(self):\n",
    "        block_string = json.dumps(self.__dict__, sort_keys=True)\n",
    "        return sha256(block_string.encode()).hexdigest()"
   ]
  },
  {
   "cell_type": "code",
   "execution_count": 13,
   "metadata": {},
   "outputs": [],
   "source": [
    "class Blockchain:     \n",
    "   def __init__(self):\n",
    "       self.unconfirmed_transactions = []\n",
    "       self.chain = []\n",
    "       self.difficulty = 4\n",
    "       self.create_genesis_block() \n",
    " \n",
    "     \n",
    "   def create_genesis_block(self):\n",
    "        genesis_block = Block(0, [\"in the name of allah the most gracious the most merciful ,  First, do no harm\"], time.time(), \"0\")\n",
    "        genesis_block.hash = genesis_block.compute_hash()\n",
    "        self.chain.append(genesis_block)\n",
    "   @property\n",
    "   def last_block(self):\n",
    "      return self.chain[-1] \n",
    "   \n",
    "   \n",
    "   def proof_of_work(self, block):\n",
    "          block.nonce = 1\n",
    "          computed_hash = block.compute_hash()\n",
    "          while not computed_hash.startswith('0' * self.difficulty):\n",
    "             block.nonce += 1\n",
    "             computed_hash = block.compute_hash()\n",
    "          return computed_hash\n",
    "   \n",
    "   def is_valid_proof(self, block, block_hash):\n",
    "        return (block_hash.startswith('0' * self.difficulty) and block_hash == block.compute_hash())\n",
    "   \n",
    "   def add_block(self, block, proof):\n",
    "        previous_hash = self.last_block.hash\n",
    "        if previous_hash != block.previous_hash:\n",
    "            return False\n",
    "        if not self.is_valid_proof(block, proof):\n",
    "            return False\n",
    "        block.hash = proof\n",
    "        self.chain.append(block)\n",
    "        return True\n",
    "   def add_new_transaction(self, transaction):\n",
    "            self.unconfirmed_transactions.append(transaction)    \n",
    "   \n",
    "   def mine(self):\n",
    "        if not self.unconfirmed_transactions:\n",
    "            return False\n",
    " \n",
    "        last_block = self.last_block\n",
    " \n",
    "        new_block = Block(index=last_block.index + 1,\n",
    "                          transactions=self.unconfirmed_transactions,\n",
    "                          timestamp=time.time(),\n",
    "                          previous_hash=last_block.hash)\n",
    " \n",
    "        proof = self.proof_of_work(new_block)\n",
    "        self.add_block(new_block, proof)\n",
    "        self.unconfirmed_transactions = []\n",
    "        return new_block.index\n",
    "           "
   ]
  },
  {
   "cell_type": "code",
   "execution_count": 14,
   "metadata": {},
   "outputs": [
    {
     "name": "stdout",
     "output_type": "stream",
     "text": [
      "00000f0d218dc41c9b31efea8e83a6fe61d86211f3a991885a70783236c42384\n",
      "16989\n",
      "00001526b268a6795368abd13c39b094be61a08739d95a61e3b0d0b14fdc96ac\n",
      "64746\n",
      "00005f7c98180caf05f917a3bab41800428209c66344f8deb163008d183571a8\n",
      "119760\n",
      "00005944ecbff2d7f2eb151339852a5f751d0c0de526693f30f1451595c37ce3\n",
      "53616\n",
      "00007b7dc60832c3b49491151462130416ff9cac75318c385781b6da04d4ac55\n",
      "21859\n",
      "0000e30887ea6a41e77ca66697ce4bc569ab44825397001d7dfcc123bf5793a7\n",
      "210919\n",
      "0000a660494fb79563e6a53b7e10a66a7ca424d394bcb2c9163c251dabb8ca2d\n",
      "37895\n",
      "0000b5161679095671fe618d23f2414ff6cefd9ce53a92416c2287d139cbc4b3\n",
      "107546\n",
      "0000466d35e43026225cf9b2e58787288369dba965531c996cb8776f9086bcd3\n",
      "36336\n"
     ]
    }
   ],
   "source": [
    "Titans = Blockchain()\n",
    "\n",
    "while len(Titans.chain) <10:\n",
    "    Titans.add_new_transaction(tx_1)\n",
    "    Titans.mine()\n",
    "    print(Titans.chain[-1].hash)\n",
    "    print(str(Titans.chain[-1].nonce))\n",
    "\n"
   ]
  },
  {
   "cell_type": "code",
   "execution_count": null,
   "metadata": {},
   "outputs": [],
   "source": [
    "#Titans.add_new_transaction(tx_1)\n",
    "#Titans.add_new_transaction(tx_2)"
   ]
  }
 ],
 "metadata": {
  "interpreter": {
   "hash": "4b9a0c280fc50c2b36decad68c359aa613eb96441a8d33c29b2a9ec218cec8cd"
  },
  "kernelspec": {
   "display_name": "Python 3.8.8 64-bit ('base': conda)",
   "language": "python",
   "name": "python3"
  },
  "language_info": {
   "codemirror_mode": {
    "name": "ipython",
    "version": 3
   },
   "file_extension": ".py",
   "mimetype": "text/x-python",
   "name": "python",
   "nbconvert_exporter": "python",
   "pygments_lexer": "ipython3",
   "version": "3.8.8"
  },
  "orig_nbformat": 4
 },
 "nbformat": 4,
 "nbformat_minor": 2
}
