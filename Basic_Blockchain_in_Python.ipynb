{
 "cells": [
  {
   "cell_type": "code",
   "execution_count": 1,
   "metadata": {},
   "outputs": [],
   "source": [
    "from hashlib import sha256\n",
    "import datetime\n",
    "import time\n",
    "import json"
   ]
  },
  {
   "cell_type": "code",
   "execution_count": 2,
   "metadata": {},
   "outputs": [],
   "source": [
    "class Block:      \n",
    "    def __init__(self, index, transactions, timestamp, previous_hash, nonce=0):\n",
    "        self.index = index\n",
    "        self.transactions = transactions\n",
    "        self.timestamp = timestamp\n",
    "        self.previous_hash = previous_hash\n",
    "        self.nonce = nonce\n",
    "        \n",
    "    def compute_hash(self):\n",
    "        block_string = json.dumps(self.__dict__, sort_keys=True)\n",
    "        return sha256(block_string.encode()).hexdigest()"
   ]
  },
  {
   "cell_type": "code",
   "execution_count": null,
   "metadata": {},
   "outputs": [],
   "source": [
    "#Eg:\n",
    "tx_1 = {\n",
    "   \"addr_from\": \"3J98t1WpEZ73CNmQviecrnyiWrnqRhWNLy\",\n",
    "   \"addr_to\": \"1BvBMSEYstWetqTFn5Au4m4GFg7xJaNVN2\",   \n",
    "   \"amount\": 99.00\n",
    "}"
   ]
  },
  {
   "cell_type": "code",
   "execution_count": 13,
   "metadata": {},
   "outputs": [
    {
     "ename": "IndentationError",
     "evalue": "unindent does not match any outer indentation level (<tokenize>, line 14)",
     "output_type": "error",
     "traceback": [
      "\u001b[1;36m  File \u001b[1;32m\"<tokenize>\"\u001b[1;36m, line \u001b[1;32m14\u001b[0m\n\u001b[1;33m    @property\u001b[0m\n\u001b[1;37m    ^\u001b[0m\n\u001b[1;31mIndentationError\u001b[0m\u001b[1;31m:\u001b[0m unindent does not match any outer indentation level\n"
     ]
    }
   ],
   "source": [
    "class Blockchain:     \n",
    "   def __init__(self):\n",
    "       self.unconfirmed_transactions = []\n",
    "       self.chain = []\n",
    "       self.difficulty = 2\n",
    "       self.create_genesis_block() \n",
    " \n",
    "     \n",
    "   def create_genesis_block(self):\n",
    "        genesis_block = Block(0, [], time.time(), \"0\")\n",
    "        genesis_block.hash = genesis_block.compute_hash()\n",
    "        self.chain.append(genesis_block)\n",
    "    @property\n",
    "    def last_block(self):\n",
    "        return self.chain[-1] \n",
    "   #\n",
    "   # todo define proof_of_work(self, block:Block) -> str, \n",
    "      # hint consider something similar to:\n",
    "      # computed_hash = how do we get the hash from a Block object?\n",
    "      # while not computed_hash.startswith('0' * Blockchain.difficulty):\n",
    "      #         block.nonce += 1\n",
    "      #         computed_hash = block.compute_hash()\n",
    "      # Don't forget to return the hash. \n",
    "   #\n",
    "   # todo define is_valid_proof(self, block:Block, block_hash:str) -> bool\n",
    "      # hint, we want to return true if block_hash.startswith('0' * Blockchain.difficulty)\n",
    "      # AND if block_hash is in fact the hash of our block (maybe use block.compute_hash())\n",
    "   #\n",
    "   # todo define add_block(self, block:Block, proof:str) -> bool\n",
    "      # hints, we probably want to get the previous hash from get_last_block()\n",
    "      # Check if the previous hash matches the previous hash in the block argument. \n",
    "      # Make use of is_valid_proof for block and proof to check if someone is trying to do something sneaky. \n",
    "      # for both of the above, let's return False early and return control the calling function if the block is not valid.\n",
    "      # If we make it this far, we're in the clear. So let's add the hash to our block, append it to the chain, \n",
    "      # and return True. \n",
    "   #\n",
    "   #\n",
    "   # todo, define add_new_transaction(self, transaction:dict) -> None\n",
    "      # Hint how do we append to a list? How do we do this for a property of our object (self). Ease one line function.    \n",
    "   #\n",
    "   # todo, define mine(self) -> int:\n",
    "      # Hints: do we need to continue if our mempool is empty? Maybe return -1 if so. \n",
    "      # consider retrieving the last block to a local variable make life easy. \n",
    "      # Let's make sure we use our Block constructor to create a new block with all the transactions we want to mine \n",
    "      # (all of them are fine)\n",
    "      # hint: Block(index=last_block.index + 1,\n",
    "      #                    transactions=self.unconfirmed_transactions,\n",
    "      #                    timestamp=time.time(),\n",
    "      #                    previous_hash=last_block.hash)\n",
    "      #\n",
    "      # Finally, let's be sure to use our handy proof_of_work function, add_block function, and to remember to reset our\n",
    "      # unconfirmed_transactions (our mem-pool), before returning our new block index;\n",
    "           "
   ]
  }
 ],
 "metadata": {
  "interpreter": {
   "hash": "4b9a0c280fc50c2b36decad68c359aa613eb96441a8d33c29b2a9ec218cec8cd"
  },
  "kernelspec": {
   "display_name": "Python 3.8.8 64-bit ('base': conda)",
   "language": "python",
   "name": "python3"
  },
  "language_info": {
   "codemirror_mode": {
    "name": "ipython",
    "version": 3
   },
   "file_extension": ".py",
   "mimetype": "text/x-python",
   "name": "python",
   "nbconvert_exporter": "python",
   "pygments_lexer": "ipython3",
   "version": "3.8.8"
  },
  "orig_nbformat": 4
 },
 "nbformat": 4,
 "nbformat_minor": 2
}
