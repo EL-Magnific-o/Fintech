{
 "cells": [
  {
   "cell_type": "code",
   "execution_count": 7,
   "metadata": {},
   "outputs": [
    {
     "name": "stdout",
     "output_type": "stream",
     "text": [
      "[[1 2 3]\n",
      " [4 5 6]]\n",
      "(2, 3)\n"
     ]
    }
   ],
   "source": [
    "import numpy as np \n",
    "\n",
    "A = np.array([[1,2,3],[4,5,6]])\n",
    "print (A)\n",
    "print (A.shape)"
   ]
  },
  {
   "cell_type": "code",
   "execution_count": 9,
   "metadata": {},
   "outputs": [
    {
     "name": "stdout",
     "output_type": "stream",
     "text": [
      "[[1 2]\n",
      " [3 4]\n",
      " [5 6]]\n"
     ]
    }
   ],
   "source": [
    "B = np.reshape(A,(3,2))\n",
    "print (B) "
   ]
  },
  {
   "cell_type": "code",
   "execution_count": 10,
   "metadata": {},
   "outputs": [
    {
     "name": "stdout",
     "output_type": "stream",
     "text": [
      "2\n"
     ]
    }
   ],
   "source": [
    "c =A[0,1]\n",
    "print(c)"
   ]
  },
  {
   "cell_type": "code",
   "execution_count": 13,
   "metadata": {},
   "outputs": [
    {
     "name": "stdout",
     "output_type": "stream",
     "text": [
      "[[1 2]]\n"
     ]
    }
   ],
   "source": [
    "D = A[:1,:2]\n",
    "print(D)"
   ]
  },
  {
   "cell_type": "code",
   "execution_count": 31,
   "metadata": {},
   "outputs": [
    {
     "name": "stdout",
     "output_type": "stream",
     "text": [
      "E array \n",
      "[[2 4]\n",
      " [6 8]]\n",
      "\n",
      "F array \n",
      "[[1 3]\n",
      " [5 7]]\n",
      "\n",
      "E+F arrayS \n",
      "[[ 3  7]\n",
      " [11 15]]\n",
      "\n",
      " tis is subtract \n",
      "[[1 1]\n",
      " [1 1]]\n",
      "\n",
      "[[ 3  7]\n",
      " [11 15]]\n",
      "[[ 2 12]\n",
      " [30 56]]\n",
      "[[22 34]\n",
      " [46 74]]\n",
      "[[2.         1.33333333]\n",
      " [1.2        1.14285714]]\n"
     ]
    }
   ],
   "source": [
    "E= np.array([[2,4],[6,8]])\n",
    "F= np.array([[1,3],[5,7]])\n",
    "print(f\"E array \\n{E}\\n\")\n",
    "\n",
    "print(f\"F array \\n{F}\\n\")\n",
    "\n",
    "\n",
    "print(f\"E+F arrayS \\n{E+F}\\n\")\n",
    "\n",
    "print(f\" tis is subtract \\n{np.subtract(E,F)}\\n\")\n",
    "##\n",
    "##f\"counting in reverse by 4 from 2018 = {np.arange(2018,0,-4)} \\n\"\n",
    "print(np.add(E,F))\n",
    "print(np.multiply(E,F))\n",
    "print(np.dot(E,F))\n",
    "print(np.divide(E,F))\n"
   ]
  },
  {
   "cell_type": "code",
   "execution_count": 33,
   "metadata": {},
   "outputs": [
    {
     "name": "stdout",
     "output_type": "stream",
     "text": [
      "[4. 6.]\n",
      "[3. 7.]\n",
      "[[-0.875  0.375]\n",
      " [ 0.625 -0.125]]\n",
      "[[ 1.00000000e+00 -5.55111512e-17]\n",
      " [ 0.00000000e+00  1.00000000e+00]]\n"
     ]
    }
   ],
   "source": [
    "print(np.mean(E,axis =0))\n",
    "\n",
    "print (np.mean(E, axis =1))\n",
    "\n",
    "print (np.asmatrix(F).I)\n",
    "## I =  Infurse\n",
    "\n",
    "print(np.asmatrix(F)*np.asmatrix(F).I)"
   ]
  },
  {
   "cell_type": "markdown",
   "metadata": {},
   "source": [
    "4 * 4 matrix "
   ]
  },
  {
   "cell_type": "code",
   "execution_count": 41,
   "metadata": {},
   "outputs": [
    {
     "name": "stdout",
     "output_type": "stream",
     "text": [
      "[[ 1  3  5 -1]\n",
      " [ 1  3  4  7]\n",
      " [ 9  3  5 -2]\n",
      " [ 1  1  2  2]]\n",
      "[[-0.13934426  0.00819672  0.12295082  0.02459016]\n",
      " [ 0.20491803  0.81147541  0.17213115 -2.56557377]\n",
      " [ 0.08196721 -0.47540984 -0.13114754  1.57377049]\n",
      " [-0.1147541   0.06557377 -0.01639344  0.19672131]]\n",
      "[[2 4]\n",
      " [6 8]]\n",
      "[[2 6]\n",
      " [4 8]]\n",
      "4.0\n",
      "1.4142135623730951\n",
      "[[1.         1.41421356 1.73205081]\n",
      " [2.         2.23606798 2.44948974]]\n"
     ]
    }
   ],
   "source": [
    "G = np.matrix([[1,3,5,-1],[1,3,4,7],[9,3,5,-2],[1,1,2,2]])\n",
    "print(G)\n",
    "print(G.I)\n",
    "print (E)\n",
    "print(E.T)  ##  RE ARANGE\n",
    "\n",
    "print(np.sqrt(16))\n",
    "\n",
    "print(np.sqrt(2))\n",
    "print(np.sqrt(A))\n",
    "\n",
    "\n"
   ]
  }
 ],
 "metadata": {
  "interpreter": {
   "hash": "4b9a0c280fc50c2b36decad68c359aa613eb96441a8d33c29b2a9ec218cec8cd"
  },
  "kernelspec": {
   "display_name": "Python 3.8.8 64-bit ('base': conda)",
   "name": "python3"
  },
  "language_info": {
   "codemirror_mode": {
    "name": "ipython",
    "version": 3
   },
   "file_extension": ".py",
   "mimetype": "text/x-python",
   "name": "python",
   "nbconvert_exporter": "python",
   "pygments_lexer": "ipython3",
   "version": "3.8.8"
  },
  "orig_nbformat": 4
 },
 "nbformat": 4,
 "nbformat_minor": 2
}
