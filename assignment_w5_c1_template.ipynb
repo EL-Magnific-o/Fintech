{
 "cells": [
  {
   "cell_type": "markdown",
   "metadata": {},
   "source": [
    "Week 5, Assignment C1:\n",
    "\n",
    "Logistic Regression with Yahoo! Finance API in Python\n",
    "\n",
    "In this notebook, we will study Logistic Regression using the Yahoo! Finance API in Python.\n",
    "\n",
    "Please complete the lines bellow where you see \"#TODO\".\n",
    "\n",
    "do this first\n",
    "in the anaconda prompt  or in the Google Colab\n",
    "\n",
    "pip install pandas-datareader\n",
    "pip install yfinance"
   ]
  },
  {
   "cell_type": "code",
   "execution_count": 47,
   "metadata": {},
   "outputs": [],
   "source": [
    "#Objective 1.\n",
    "#Use this cell to import the Numpy (as np), Pandas (as pd), and YFinance (as yf) packages.\n",
    "import datetime as dt\n",
    "import numpy as np \n",
    "import pandas as pd\n",
    "import yfinance as yf\n",
    "\n",
    "#Our work will also require some components of the Sklearn and Pandas_Datareader packages as imported below:\n",
    "\n",
    "from sklearn.linear_model import LogisticRegression\n",
    "from sklearn import metrics\n",
    "from sklearn.model_selection import cross_val_score\n",
    "from pandas_datareader import data as pdr\n",
    "yf.pdr_override()"
   ]
  },
  {
   "cell_type": "code",
   "execution_count": 48,
   "metadata": {},
   "outputs": [],
   "source": [
    "#Objective 2.\n",
    "#Select a stock symbol for a stock whose historical data is available on the Yahoo! Finance website.  Store the\n",
    "#string of your chosen symbol to the new variable \"stock_symbol\".\n",
    "start = dt.datetime(2020,9,22)\n",
    "end = dt.datetime.now()\n",
    "\n",
    "stock_symbol = ['AVAX-USD']"
   ]
  },
  {
   "cell_type": "code",
   "execution_count": 49,
   "metadata": {},
   "outputs": [
    {
     "name": "stdout",
     "output_type": "stream",
     "text": [
      "[*********************100%***********************]  1 of 1 completed\n"
     ]
    },
    {
     "data": {
      "text/plain": [
       "Index(['Open', 'Adj Close'], dtype='object')"
      ]
     },
     "execution_count": 49,
     "metadata": {},
     "output_type": "execute_result"
    }
   ],
   "source": [
    "#Objective 3.\n",
    "#Use the function \"pdr.get_data_yahoo(stock_symbol, start_date, end_date)\" to generate a Pandas dataframe of\n",
    "#historical stock data for your chosen stock.  Retain only the first four columns of the dataframe.  Be sure to \n",
    "#drop any rows containing NaN's, and take a peek at the resulting dataframe to make sure everything looks good.\n",
    "deletd_column =[]\n",
    "df = pdr.get_data_yahoo(stock_symbol, start, end).dropna()\n",
    "df1 = df[[\"Open\",\"Adj Close\"]]\n",
    "\n",
    "#df = #TODO\n",
    "#df.head()\n",
    "#df.shape\n",
    "df1.columns\n",
    "#df[\"Open\"]"
   ]
  },
  {
   "cell_type": "code",
   "execution_count": 50,
   "metadata": {},
   "outputs": [
    {
     "data": {
      "text/html": [
       "<div>\n",
       "<style scoped>\n",
       "    .dataframe tbody tr th:only-of-type {\n",
       "        vertical-align: middle;\n",
       "    }\n",
       "\n",
       "    .dataframe tbody tr th {\n",
       "        vertical-align: top;\n",
       "    }\n",
       "\n",
       "    .dataframe thead th {\n",
       "        text-align: right;\n",
       "    }\n",
       "</style>\n",
       "<table border=\"1\" class=\"dataframe\">\n",
       "  <thead>\n",
       "    <tr style=\"text-align: right;\">\n",
       "      <th></th>\n",
       "      <th>Open</th>\n",
       "      <th>Adj Close</th>\n",
       "    </tr>\n",
       "    <tr>\n",
       "      <th>Date</th>\n",
       "      <th></th>\n",
       "      <th></th>\n",
       "    </tr>\n",
       "  </thead>\n",
       "  <tbody>\n",
       "    <tr>\n",
       "      <th>2020-09-22</th>\n",
       "      <td>4.986754</td>\n",
       "      <td>5.234632</td>\n",
       "    </tr>\n",
       "    <tr>\n",
       "      <th>2020-09-23</th>\n",
       "      <td>5.234104</td>\n",
       "      <td>3.521812</td>\n",
       "    </tr>\n",
       "    <tr>\n",
       "      <th>2020-09-24</th>\n",
       "      <td>3.521812</td>\n",
       "      <td>4.578369</td>\n",
       "    </tr>\n",
       "    <tr>\n",
       "      <th>2020-09-25</th>\n",
       "      <td>4.585006</td>\n",
       "      <td>4.711471</td>\n",
       "    </tr>\n",
       "    <tr>\n",
       "      <th>2020-09-26</th>\n",
       "      <td>4.725395</td>\n",
       "      <td>4.541182</td>\n",
       "    </tr>\n",
       "    <tr>\n",
       "      <th>...</th>\n",
       "      <td>...</td>\n",
       "      <td>...</td>\n",
       "    </tr>\n",
       "    <tr>\n",
       "      <th>2021-11-03</th>\n",
       "      <td>67.773087</td>\n",
       "      <td>75.430420</td>\n",
       "    </tr>\n",
       "    <tr>\n",
       "      <th>2021-11-04</th>\n",
       "      <td>75.577637</td>\n",
       "      <td>79.293221</td>\n",
       "    </tr>\n",
       "    <tr>\n",
       "      <th>2021-11-05</th>\n",
       "      <td>79.047600</td>\n",
       "      <td>74.364738</td>\n",
       "    </tr>\n",
       "    <tr>\n",
       "      <th>2021-11-06</th>\n",
       "      <td>74.296654</td>\n",
       "      <td>78.685204</td>\n",
       "    </tr>\n",
       "    <tr>\n",
       "      <th>2021-11-08</th>\n",
       "      <td>85.834435</td>\n",
       "      <td>95.372963</td>\n",
       "    </tr>\n",
       "  </tbody>\n",
       "</table>\n",
       "<p>406 rows × 2 columns</p>\n",
       "</div>"
      ],
      "text/plain": [
       "                 Open  Adj Close\n",
       "Date                            \n",
       "2020-09-22   4.986754   5.234632\n",
       "2020-09-23   5.234104   3.521812\n",
       "2020-09-24   3.521812   4.578369\n",
       "2020-09-25   4.585006   4.711471\n",
       "2020-09-26   4.725395   4.541182\n",
       "...               ...        ...\n",
       "2021-11-03  67.773087  75.430420\n",
       "2021-11-04  75.577637  79.293221\n",
       "2021-11-05  79.047600  74.364738\n",
       "2021-11-06  74.296654  78.685204\n",
       "2021-11-08  85.834435  95.372963\n",
       "\n",
       "[406 rows x 2 columns]"
      ]
     },
     "execution_count": 50,
     "metadata": {},
     "output_type": "execute_result"
    }
   ],
   "source": [
    "df1"
   ]
  },
  {
   "cell_type": "code",
   "execution_count": 56,
   "metadata": {},
   "outputs": [
    {
     "name": "stderr",
     "output_type": "stream",
     "text": [
      "<ipython-input-56-5346e52bfa49>:7: SettingWithCopyWarning: \n",
      "A value is trying to be set on a copy of a slice from a DataFrame.\n",
      "Try using .loc[row_indexer,col_indexer] = value instead\n",
      "\n",
      "See the caveats in the documentation: https://pandas.pydata.org/pandas-docs/stable/user_guide/indexing.html#returning-a-view-versus-a-copy\n",
      "  df1['Close_15_Rolling'] = df1['Adj Close'].rolling(16).mean() #start from zero ?\n",
      "<ipython-input-56-5346e52bfa49>:9: SettingWithCopyWarning: \n",
      "A value is trying to be set on a copy of a slice from a DataFrame.\n",
      "Try using .loc[row_indexer,col_indexer] = value instead\n",
      "\n",
      "See the caveats in the documentation: https://pandas.pydata.org/pandas-docs/stable/user_guide/indexing.html#returning-a-view-versus-a-copy\n",
      "  df1['Open_1_Change'] = df1['Open'].diff()\n",
      "<ipython-input-56-5346e52bfa49>:11: SettingWithCopyWarning: \n",
      "A value is trying to be set on a copy of a slice from a DataFrame.\n",
      "Try using .loc[row_indexer,col_indexer] = value instead\n",
      "\n",
      "See the caveats in the documentation: https://pandas.pydata.org/pandas-docs/stable/user_guide/indexing.html#returning-a-view-versus-a-copy\n",
      "  df1['Adj Close_Change'] = df1['Adj Close'].diff()\n"
     ]
    },
    {
     "data": {
      "text/html": [
       "<div>\n",
       "<style scoped>\n",
       "    .dataframe tbody tr th:only-of-type {\n",
       "        vertical-align: middle;\n",
       "    }\n",
       "\n",
       "    .dataframe tbody tr th {\n",
       "        vertical-align: top;\n",
       "    }\n",
       "\n",
       "    .dataframe thead th {\n",
       "        text-align: right;\n",
       "    }\n",
       "</style>\n",
       "<table border=\"1\" class=\"dataframe\">\n",
       "  <thead>\n",
       "    <tr style=\"text-align: right;\">\n",
       "      <th></th>\n",
       "      <th>Open</th>\n",
       "      <th>Adj Close</th>\n",
       "      <th>Close_15_Rolling</th>\n",
       "      <th>Open_1_Change</th>\n",
       "      <th>Adj Close_Change</th>\n",
       "    </tr>\n",
       "    <tr>\n",
       "      <th>Date</th>\n",
       "      <th></th>\n",
       "      <th></th>\n",
       "      <th></th>\n",
       "      <th></th>\n",
       "      <th></th>\n",
       "    </tr>\n",
       "  </thead>\n",
       "  <tbody>\n",
       "    <tr>\n",
       "      <th>2020-10-28</th>\n",
       "      <td>4.122243</td>\n",
       "      <td>4.066606</td>\n",
       "      <td>4.113348</td>\n",
       "      <td>-0.038730</td>\n",
       "      <td>-0.055637</td>\n",
       "    </tr>\n",
       "    <tr>\n",
       "      <th>2020-10-29</th>\n",
       "      <td>4.066606</td>\n",
       "      <td>3.775312</td>\n",
       "      <td>4.093313</td>\n",
       "      <td>-0.055637</td>\n",
       "      <td>-0.291294</td>\n",
       "    </tr>\n",
       "    <tr>\n",
       "      <th>2020-10-30</th>\n",
       "      <td>3.775312</td>\n",
       "      <td>3.714938</td>\n",
       "      <td>4.066118</td>\n",
       "      <td>-0.291294</td>\n",
       "      <td>-0.060374</td>\n",
       "    </tr>\n",
       "    <tr>\n",
       "      <th>2020-10-31</th>\n",
       "      <td>3.714938</td>\n",
       "      <td>3.648368</td>\n",
       "      <td>4.036181</td>\n",
       "      <td>-0.060374</td>\n",
       "      <td>-0.066570</td>\n",
       "    </tr>\n",
       "    <tr>\n",
       "      <th>2020-11-01</th>\n",
       "      <td>3.648368</td>\n",
       "      <td>3.682664</td>\n",
       "      <td>4.013818</td>\n",
       "      <td>-0.066570</td>\n",
       "      <td>0.034296</td>\n",
       "    </tr>\n",
       "    <tr>\n",
       "      <th>...</th>\n",
       "      <td>...</td>\n",
       "      <td>...</td>\n",
       "      <td>...</td>\n",
       "      <td>...</td>\n",
       "      <td>...</td>\n",
       "    </tr>\n",
       "    <tr>\n",
       "      <th>2021-11-03</th>\n",
       "      <td>67.773087</td>\n",
       "      <td>75.430420</td>\n",
       "      <td>64.832815</td>\n",
       "      <td>2.804817</td>\n",
       "      <td>7.845863</td>\n",
       "    </tr>\n",
       "    <tr>\n",
       "      <th>2021-11-04</th>\n",
       "      <td>75.577637</td>\n",
       "      <td>79.293221</td>\n",
       "      <td>66.237581</td>\n",
       "      <td>7.804550</td>\n",
       "      <td>3.862801</td>\n",
       "    </tr>\n",
       "    <tr>\n",
       "      <th>2021-11-05</th>\n",
       "      <td>79.047600</td>\n",
       "      <td>74.364738</td>\n",
       "      <td>67.162887</td>\n",
       "      <td>3.469963</td>\n",
       "      <td>-4.928482</td>\n",
       "    </tr>\n",
       "    <tr>\n",
       "      <th>2021-11-06</th>\n",
       "      <td>74.296654</td>\n",
       "      <td>78.685204</td>\n",
       "      <td>68.248849</td>\n",
       "      <td>-4.750946</td>\n",
       "      <td>4.320465</td>\n",
       "    </tr>\n",
       "    <tr>\n",
       "      <th>2021-11-08</th>\n",
       "      <td>85.834435</td>\n",
       "      <td>95.372963</td>\n",
       "      <td>70.118704</td>\n",
       "      <td>11.537781</td>\n",
       "      <td>16.687759</td>\n",
       "    </tr>\n",
       "  </tbody>\n",
       "</table>\n",
       "<p>376 rows × 5 columns</p>\n",
       "</div>"
      ],
      "text/plain": [
       "                 Open  Adj Close  Close_15_Rolling  Open_1_Change  \\\n",
       "Date                                                                \n",
       "2020-10-28   4.122243   4.066606          4.113348      -0.038730   \n",
       "2020-10-29   4.066606   3.775312          4.093313      -0.055637   \n",
       "2020-10-30   3.775312   3.714938          4.066118      -0.291294   \n",
       "2020-10-31   3.714938   3.648368          4.036181      -0.060374   \n",
       "2020-11-01   3.648368   3.682664          4.013818      -0.066570   \n",
       "...               ...        ...               ...            ...   \n",
       "2021-11-03  67.773087  75.430420         64.832815       2.804817   \n",
       "2021-11-04  75.577637  79.293221         66.237581       7.804550   \n",
       "2021-11-05  79.047600  74.364738         67.162887       3.469963   \n",
       "2021-11-06  74.296654  78.685204         68.248849      -4.750946   \n",
       "2021-11-08  85.834435  95.372963         70.118704      11.537781   \n",
       "\n",
       "            Adj Close_Change  \n",
       "Date                          \n",
       "2020-10-28         -0.055637  \n",
       "2020-10-29         -0.291294  \n",
       "2020-10-30         -0.060374  \n",
       "2020-10-31         -0.066570  \n",
       "2020-11-01          0.034296  \n",
       "...                      ...  \n",
       "2021-11-03          7.845863  \n",
       "2021-11-04          3.862801  \n",
       "2021-11-05         -4.928482  \n",
       "2021-11-06          4.320465  \n",
       "2021-11-08         16.687759  \n",
       "\n",
       "[376 rows x 5 columns]"
      ]
     },
     "execution_count": 56,
     "metadata": {},
     "output_type": "execute_result"
    }
   ],
   "source": [
    "#Objective 4.\n",
    "#Use the historical data to define some predictor variables.  Add these variables to the dataframe.  Include, at a\n",
    "#minimum, (Predictor.I) the rolling average closing price over the past fifteen (15) days and (Predictor.II) the\n",
    "#change in opening price over the past one (1) day.  Be sure to again drop any rows containing NaN's, and take a\n",
    "#peek at the resulting dataframe to make sure everything looks good.  Store the dataframe as the new variable \"X\".\n",
    "\n",
    "df1['Close_15_Rolling'] = df1['Adj Close'].rolling(16).mean() #start from zero ?\n",
    "\n",
    "df1['Open_1_Change'] = df1['Open'].diff()\n",
    "\n",
    "df1['Adj Close_Change'] = df1['Adj Close'].diff()\n",
    "\n",
    "df1=df1.dropna()\n",
    "X=df1\n",
    "X"
   ]
  },
  {
   "cell_type": "code",
   "execution_count": 55,
   "metadata": {},
   "outputs": [
    {
     "data": {
      "text/plain": [
       "Date\n",
       "2020-10-11     4.095879\n",
       "2020-10-14     4.150056\n",
       "2020-10-15     4.127353\n",
       "2020-10-16     4.040480\n",
       "2020-10-17     4.196009\n",
       "                ...    \n",
       "2021-11-03    75.430420\n",
       "2021-11-04    79.293221\n",
       "2021-11-05    74.364738\n",
       "2021-11-06    78.685204\n",
       "2021-11-08    95.372963\n",
       "Name: Adj Close, Length: 391, dtype: float64"
      ]
     },
     "execution_count": 55,
     "metadata": {},
     "output_type": "execute_result"
    }
   ],
   "source": [
    "#Objective 5.\n",
    "#Define the target or dependent variable to be one (1) if the change in closing price over the past one (1) day is\n",
    "#nonnegative and negative one (-1) if the change in closing price over the past one (1) day is negative.  This\n",
    "#variable's values should be forward-looking (i.e., you should subtract today's price from tomorrow's price rather\n",
    "#than subtracting yesterday's price from today's price).  Store the resulting values as the new variable \"y\".  You\n",
    "#may find the \"np.where(*args)\" function to be useful.  Look it up in Numpy documentation for support.\n",
    "#np.where(a < 5, a, 10*a)\n",
    "y = X[\"Adj Close_Change\"]\n",
    "#y = np.where(y<0,y=1)\n",
    "y"
   ]
  },
  {
   "cell_type": "code",
   "execution_count": 53,
   "metadata": {},
   "outputs": [],
   "source": [
    "#Objective 6.\n",
    "#Split the data into training and test sets, putting the first seventy percent (70%) of the data in the training\n",
    "#set.\n",
    "\n",
    "#index = int(0.7*len(X))\n",
    "#X_train, X_test, y_train, y_test = #TODO"
   ]
  },
  {
   "cell_type": "code",
   "execution_count": 54,
   "metadata": {},
   "outputs": [
    {
     "ename": "SyntaxError",
     "evalue": "invalid syntax (<ipython-input-54-48dbe8ec2450>, line 6)",
     "output_type": "error",
     "traceback": [
      "\u001b[1;36m  File \u001b[1;32m\"<ipython-input-54-48dbe8ec2450>\"\u001b[1;36m, line \u001b[1;32m6\u001b[0m\n\u001b[1;33m    logistic = #TODO\u001b[0m\n\u001b[1;37m               ^\u001b[0m\n\u001b[1;31mSyntaxError\u001b[0m\u001b[1;31m:\u001b[0m invalid syntax\n"
     ]
    }
   ],
   "source": [
    "#Objective 7.\n",
    "#Instantiate the Logistic Regression model object, and use its \".fit(*args)\" method to fit the model to the \n",
    "#training data.\n",
    "\n",
    "logistic = LogisticRegression()\n",
    "logistic = #TODO"
   ]
  },
  {
   "cell_type": "code",
   "execution_count": null,
   "metadata": {},
   "outputs": [],
   "source": [
    "#Objective 8.\n",
    "#Examine the model's coefficients by using its \".coef_\" method.\n",
    "\n",
    "pd.DataFrame(zip(X.columns, np.transpose(logistic.coef_)))"
   ]
  },
  {
   "cell_type": "code",
   "execution_count": null,
   "metadata": {},
   "outputs": [],
   "source": [
    "#Objective 9.\n",
    "#Use the model's \".predict_proba(*args)\" and \".predict(*args)\" methods to generate predictions over the test set.\n",
    "\n",
    "probabilities = #TODO\n",
    "predictions = #TODO"
   ]
  },
  {
   "cell_type": "code",
   "execution_count": null,
   "metadata": {},
   "outputs": [],
   "source": [
    "#Objective 10.\n",
    "#Use the function \"metrics.confusion_matrix(*args)\" to create a confusion matrix comparing the predicted and true\n",
    "#classification labels over the test set.\n",
    "\n",
    "#TODO"
   ]
  },
  {
   "cell_type": "code",
   "execution_count": null,
   "metadata": {},
   "outputs": [],
   "source": [
    "#Objective 11.\n",
    "#Calculate the model's accuracy on the test set using its \".score(*args)\" method.\n",
    "\n",
    "#TODO"
   ]
  },
  {
   "cell_type": "code",
   "execution_count": null,
   "metadata": {},
   "outputs": [],
   "source": [
    "#Objective 12.\n",
    "#Use five-fold cross validation to cross-check the accuracy of the model over different held-out test sets.  This\n",
    "#is where you should use the function \"cross_val_score(*args)\".\n",
    "\n",
    "cross_val = #TODO"
   ]
  },
  {
   "cell_type": "code",
   "execution_count": null,
   "metadata": {},
   "outputs": [],
   "source": []
  }
 ],
 "metadata": {
  "kernelspec": {
   "display_name": "Python 3",
   "language": "python",
   "name": "python3"
  },
  "language_info": {
   "codemirror_mode": {
    "name": "ipython",
    "version": 3
   },
   "file_extension": ".py",
   "mimetype": "text/x-python",
   "name": "python",
   "nbconvert_exporter": "python",
   "pygments_lexer": "ipython3",
   "version": "3.8.8"
  }
 },
 "nbformat": 4,
 "nbformat_minor": 4
}
