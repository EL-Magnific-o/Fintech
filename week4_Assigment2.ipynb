{
 "cells": [
  {
   "cell_type": "markdown",
   "metadata": {
    "id": "RIGhjEoUu32T"
   },
   "source": [
    "Revenue Growth Factor: 18% of prior period Revenue\n",
    "\n",
    "EBITDA Margin: 45.0% of current Revenue\n",
    "\n",
    "Taxes: 21% of current EDBITDA\n",
    "\n",
    "Capital Expenditures: 3% of current Revenue\n",
    "\n",
    "Working Capital Increase: 6% of Revenue\n",
    "\n",
    "EBITDA Exit Multiple: 32.70\n",
    "\n",
    "Discount Factor: 0.94 (6%). "
   ]
  },
  {
   "cell_type": "markdown",
   "metadata": {
    "id": "BQSJhkTVu_cO"
   },
   "source": [
    "We would like a ten year model starting in 2022 to 2032.\n",
    "\n",
    "Your starting baseline historical Revenue is 222 for the FY 2021 (assume it's over for now). \n",
    "\n",
    "Parameters:  Values"
   ]
  },
  {
   "cell_type": "code",
   "execution_count": 1,
   "metadata": {
    "id": "hbvFHaEluwKn"
   },
   "outputs": [],
   "source": [
    "import numpy as np\n",
    "import pandas as pd\n",
    "from matplotlib import pyplot as plt\n",
    "%matplotlib inline\n",
    "import seaborn as sns"
   ]
  },
  {
   "cell_type": "code",
   "execution_count": 2,
   "metadata": {
    "colab": {
     "base_uri": "https://localhost:8080/"
    },
    "id": "K4f395sBvGA-",
    "outputId": "fcaefbf3-45fa-4153-cfa7-0122112c24ff"
   },
   "outputs": [],
   "source": [
    "Dates= ['2021','2022', '2023', '2024', '2025', '2026', '2027','2028', '2029','2030', '2031','2032' ]\n",
    "Revenue = pd.Series(index=Dates, dtype='float64')\n",
    "Revenue['2021'] = 222\n",
    "#Revenue"
   ]
  },
  {
   "cell_type": "code",
   "execution_count": 3,
   "metadata": {
    "colab": {
     "base_uri": "https://localhost:8080/"
    },
    "id": "bEoHljDewKtZ",
    "outputId": "661ff2be-41fd-4626-80de-39c9ff5bdb3e"
   },
   "outputs": [],
   "source": [
    "growth_rate = 0.18\n",
    "for year in range(1, 12):\n",
    "    Revenue[year] = Revenue[year - 1] * (1 + growth_rate)\n",
    "#Revenue   "
   ]
  },
  {
   "cell_type": "code",
   "execution_count": 4,
   "metadata": {
    "colab": {
     "base_uri": "https://localhost:8080/"
    },
    "id": "ljYBaBT1wtbB",
    "outputId": "763ab3e0-1eea-46ec-a435-3297a7014abc"
   },
   "outputs": [],
   "source": [
    "ebitda_margin = 0.45\n",
    "ebitda = Revenue * ebitda_margin \n",
    "#ebitda"
   ]
  },
  {
   "cell_type": "code",
   "execution_count": 5,
   "metadata": {
    "colab": {
     "base_uri": "https://localhost:8080/"
    },
    "id": "1xkEMhCG_bb-",
    "outputId": "7e91b9ca-3845-4500-c71c-01c6a563bcd8"
   },
   "outputs": [],
   "source": [
    "tax_rate = 0.21\n",
    "taxes = -ebitda * tax_rate\n",
    "tax_payment = taxes.apply(lambda x: min(x, 0))\n",
    "#taxes"
   ]
  },
  {
   "cell_type": "code",
   "execution_count": 6,
   "metadata": {
    "colab": {
     "base_uri": "https://localhost:8080/"
    },
    "id": "blXujcp4_27H",
    "outputId": "7c078427-5a14-4e9d-8848-2aa60868c6bb"
   },
   "outputs": [],
   "source": [
    "capex_percent = 0.03\n",
    "capital_expenditures = -(Revenue * capex_percent)\n",
    "#capital_expenditures"
   ]
  },
  {
   "cell_type": "code",
   "execution_count": 7,
   "metadata": {
    "colab": {
     "base_uri": "https://localhost:8080/"
    },
    "id": "2Cm8VujkAX28",
    "outputId": "88f9eeea-0b9c-494e-d984-d18969360652"
   },
   "outputs": [],
   "source": [
    "nwc_percent = 0.06\n",
    "nwc = Revenue * nwc_percent\n",
    "change_in_nwc = nwc.shift(1) - nwc\n",
    "#to be changed to 0\n",
    "#change_in_nwc"
   ]
  },
  {
   "cell_type": "code",
   "execution_count": 8,
   "metadata": {
    "colab": {
     "base_uri": "https://localhost:8080/"
    },
    "id": "2O0FzxIgApl0",
    "outputId": "c8331735-ca65-4c30-83d5-b6f89b1c096d"
   },
   "outputs": [],
   "source": [
    "cash_flow = ebitda + taxes + capital_expenditures + change_in_nwc\n",
    "#cash_flow"
   ]
  },
  {
   "cell_type": "code",
   "execution_count": 9,
   "metadata": {},
   "outputs": [],
   "source": [
    "discount_rate = 0.06\n",
    "discount_factor= pd.Series(index=Dates, dtype='float64')\n",
    "\n",
    "for year in range(0, 12):\n",
    "    discount_factor[year]= (1 / (1 + discount_rate)) ** year\n",
    "#discount_factor"
   ]
  },
  {
   "cell_type": "code",
   "execution_count": 10,
   "metadata": {
    "colab": {
     "base_uri": "https://localhost:8080/"
    },
    "id": "UehyX9v0FPdr",
    "outputId": "ace94130-0af5-475b-a744-6a938348775d"
   },
   "outputs": [],
   "source": [
    "#Present Value of Future Cash Flow\n",
    "pv_of_fcf = (cash_flow * discount_factor)\n",
    "#pv_of_fcf"
   ]
  },
  {
   "cell_type": "code",
   "execution_count": 11,
   "metadata": {},
   "outputs": [
    {
     "data": {
      "text/html": [
       "<div>\n",
       "<style scoped>\n",
       "    .dataframe tbody tr th:only-of-type {\n",
       "        vertical-align: middle;\n",
       "    }\n",
       "\n",
       "    .dataframe tbody tr th {\n",
       "        vertical-align: top;\n",
       "    }\n",
       "\n",
       "    .dataframe thead th {\n",
       "        text-align: right;\n",
       "    }\n",
       "</style>\n",
       "<table border=\"1\" class=\"dataframe\">\n",
       "  <thead>\n",
       "    <tr style=\"text-align: right;\">\n",
       "      <th></th>\n",
       "      <th>revenue</th>\n",
       "      <th>EBITDA</th>\n",
       "      <th>taxes</th>\n",
       "      <th>cap_ex</th>\n",
       "      <th>work_cap</th>\n",
       "      <th>cash_flow</th>\n",
       "      <th>discount_factor</th>\n",
       "      <th>present_value_fcf</th>\n",
       "    </tr>\n",
       "  </thead>\n",
       "  <tbody>\n",
       "    <tr>\n",
       "      <th>2021</th>\n",
       "      <td>222.000000</td>\n",
       "      <td>99.900000</td>\n",
       "      <td>-20.979000</td>\n",
       "      <td>-6.660000</td>\n",
       "      <td>NaN</td>\n",
       "      <td>NaN</td>\n",
       "      <td>1.000000</td>\n",
       "      <td>NaN</td>\n",
       "    </tr>\n",
       "    <tr>\n",
       "      <th>2022</th>\n",
       "      <td>261.960000</td>\n",
       "      <td>117.882000</td>\n",
       "      <td>-24.755220</td>\n",
       "      <td>-7.858800</td>\n",
       "      <td>-2.397600</td>\n",
       "      <td>82.870380</td>\n",
       "      <td>0.943396</td>\n",
       "      <td>78.179604</td>\n",
       "    </tr>\n",
       "    <tr>\n",
       "      <th>2023</th>\n",
       "      <td>309.112800</td>\n",
       "      <td>139.100760</td>\n",
       "      <td>-29.211160</td>\n",
       "      <td>-9.273384</td>\n",
       "      <td>-2.829168</td>\n",
       "      <td>97.787048</td>\n",
       "      <td>0.889996</td>\n",
       "      <td>87.030125</td>\n",
       "    </tr>\n",
       "    <tr>\n",
       "      <th>2024</th>\n",
       "      <td>364.753104</td>\n",
       "      <td>164.138897</td>\n",
       "      <td>-34.469168</td>\n",
       "      <td>-10.942593</td>\n",
       "      <td>-3.338418</td>\n",
       "      <td>115.388717</td>\n",
       "      <td>0.839619</td>\n",
       "      <td>96.882592</td>\n",
       "    </tr>\n",
       "    <tr>\n",
       "      <th>2025</th>\n",
       "      <td>430.408663</td>\n",
       "      <td>193.683898</td>\n",
       "      <td>-40.673619</td>\n",
       "      <td>-12.912260</td>\n",
       "      <td>-3.939334</td>\n",
       "      <td>136.158686</td>\n",
       "      <td>0.792094</td>\n",
       "      <td>107.850433</td>\n",
       "    </tr>\n",
       "    <tr>\n",
       "      <th>2026</th>\n",
       "      <td>507.882222</td>\n",
       "      <td>228.547000</td>\n",
       "      <td>-47.994870</td>\n",
       "      <td>-15.236467</td>\n",
       "      <td>-4.648414</td>\n",
       "      <td>160.667250</td>\n",
       "      <td>0.747258</td>\n",
       "      <td>120.059915</td>\n",
       "    </tr>\n",
       "    <tr>\n",
       "      <th>2027</th>\n",
       "      <td>599.301022</td>\n",
       "      <td>269.685460</td>\n",
       "      <td>-56.633947</td>\n",
       "      <td>-17.979031</td>\n",
       "      <td>-5.485128</td>\n",
       "      <td>189.587355</td>\n",
       "      <td>0.704961</td>\n",
       "      <td>133.651604</td>\n",
       "    </tr>\n",
       "    <tr>\n",
       "      <th>2028</th>\n",
       "      <td>707.175206</td>\n",
       "      <td>318.228843</td>\n",
       "      <td>-66.828057</td>\n",
       "      <td>-21.215256</td>\n",
       "      <td>-6.472451</td>\n",
       "      <td>223.713078</td>\n",
       "      <td>0.665057</td>\n",
       "      <td>148.781974</td>\n",
       "    </tr>\n",
       "    <tr>\n",
       "      <th>2029</th>\n",
       "      <td>834.466743</td>\n",
       "      <td>375.510034</td>\n",
       "      <td>-78.857107</td>\n",
       "      <td>-25.034002</td>\n",
       "      <td>-7.637492</td>\n",
       "      <td>263.981433</td>\n",
       "      <td>0.627412</td>\n",
       "      <td>165.625217</td>\n",
       "    </tr>\n",
       "    <tr>\n",
       "      <th>2030</th>\n",
       "      <td>984.670757</td>\n",
       "      <td>443.101841</td>\n",
       "      <td>-93.051387</td>\n",
       "      <td>-29.540123</td>\n",
       "      <td>-9.012241</td>\n",
       "      <td>311.498090</td>\n",
       "      <td>0.591898</td>\n",
       "      <td>184.375241</td>\n",
       "    </tr>\n",
       "    <tr>\n",
       "      <th>2031</th>\n",
       "      <td>1161.911493</td>\n",
       "      <td>522.860172</td>\n",
       "      <td>-109.800636</td>\n",
       "      <td>-34.857345</td>\n",
       "      <td>-10.634444</td>\n",
       "      <td>367.567747</td>\n",
       "      <td>0.558395</td>\n",
       "      <td>205.247910</td>\n",
       "    </tr>\n",
       "    <tr>\n",
       "      <th>2032</th>\n",
       "      <td>1371.055562</td>\n",
       "      <td>616.975003</td>\n",
       "      <td>-129.564751</td>\n",
       "      <td>-41.131667</td>\n",
       "      <td>-12.548644</td>\n",
       "      <td>433.729941</td>\n",
       "      <td>0.526788</td>\n",
       "      <td>228.483522</td>\n",
       "    </tr>\n",
       "  </tbody>\n",
       "</table>\n",
       "</div>"
      ],
      "text/plain": [
       "          revenue      EBITDA       taxes     cap_ex   work_cap   cash_flow  \\\n",
       "2021   222.000000   99.900000  -20.979000  -6.660000        NaN         NaN   \n",
       "2022   261.960000  117.882000  -24.755220  -7.858800  -2.397600   82.870380   \n",
       "2023   309.112800  139.100760  -29.211160  -9.273384  -2.829168   97.787048   \n",
       "2024   364.753104  164.138897  -34.469168 -10.942593  -3.338418  115.388717   \n",
       "2025   430.408663  193.683898  -40.673619 -12.912260  -3.939334  136.158686   \n",
       "2026   507.882222  228.547000  -47.994870 -15.236467  -4.648414  160.667250   \n",
       "2027   599.301022  269.685460  -56.633947 -17.979031  -5.485128  189.587355   \n",
       "2028   707.175206  318.228843  -66.828057 -21.215256  -6.472451  223.713078   \n",
       "2029   834.466743  375.510034  -78.857107 -25.034002  -7.637492  263.981433   \n",
       "2030   984.670757  443.101841  -93.051387 -29.540123  -9.012241  311.498090   \n",
       "2031  1161.911493  522.860172 -109.800636 -34.857345 -10.634444  367.567747   \n",
       "2032  1371.055562  616.975003 -129.564751 -41.131667 -12.548644  433.729941   \n",
       "\n",
       "      discount_factor  present_value_fcf  \n",
       "2021         1.000000                NaN  \n",
       "2022         0.943396          78.179604  \n",
       "2023         0.889996          87.030125  \n",
       "2024         0.839619          96.882592  \n",
       "2025         0.792094         107.850433  \n",
       "2026         0.747258         120.059915  \n",
       "2027         0.704961         133.651604  \n",
       "2028         0.665057         148.781974  \n",
       "2029         0.627412         165.625217  \n",
       "2030         0.591898         184.375241  \n",
       "2031         0.558395         205.247910  \n",
       "2032         0.526788         228.483522  "
      ]
     },
     "execution_count": 11,
     "metadata": {},
     "output_type": "execute_result"
    }
   ],
   "source": [
    "data = {'revenue': Revenue,\n",
    "        'EBITDA':ebitda, \n",
    "        'taxes':taxes, \n",
    "        'cap_ex':capital_expenditures, \n",
    "         'work_cap':change_in_nwc,\n",
    "        'cash_flow':cash_flow, \n",
    "        'discount_factor': discount_factor, \n",
    "        'present_value_fcf':pv_of_fcf }\n",
    "df = pd.DataFrame(data, index= Dates)  \n",
    "df"
   ]
  },
  {
   "cell_type": "code",
   "execution_count": 12,
   "metadata": {
    "colab": {
     "base_uri": "https://localhost:8080/"
    },
    "id": "m4yg9gK_kYZr",
    "outputId": "921619de-78b3-45b4-de1d-e08d126502b6"
   },
   "outputs": [
    {
     "data": {
      "text/plain": [
       "1556.1681370653096"
      ]
     },
     "execution_count": 12,
     "metadata": {},
     "output_type": "execute_result"
    }
   ],
   "source": [
    "#total present value of Future Cash Flows\n",
    "t_pv_of_fcf = pv_of_fcf.sum()\n",
    "t_pv_of_fcf"
   ]
  },
  {
   "cell_type": "code",
   "execution_count": 13,
   "metadata": {
    "colab": {
     "base_uri": "https://localhost:8080/"
    },
    "id": "XrRWdSAgpeKR",
    "outputId": "11bc0a1a-ca50-4f7c-ef1b-732b52b12d38"
   },
   "outputs": [
    {
     "data": {
      "text/plain": [
       "20175.082590019254"
      ]
     },
     "execution_count": 13,
     "metadata": {},
     "output_type": "execute_result"
    }
   ],
   "source": [
    "#terminal_value \n",
    "ebitda_exit_multiple = 32.70\n",
    "terminal_value = (ebitda_exit_multiple*ebitda[11])\n",
    "terminal_value"
   ]
  },
  {
   "cell_type": "code",
   "execution_count": 14,
   "metadata": {
    "colab": {
     "base_uri": "https://localhost:8080/"
    },
    "id": "2BmlwLy8rm91",
    "outputId": "6117fb46-af05-46d9-d79e-a1dd3e545beb"
   },
   "outputs": [
    {
     "data": {
      "text/plain": [
       "21731.250727084564"
      ]
     },
     "execution_count": 14,
     "metadata": {},
     "output_type": "execute_result"
    }
   ],
   "source": [
    "#present_assets_value\n",
    "present_assets_value = (t_pv_of_fcf + terminal_value)\n",
    "present_assets_value"
   ]
  },
  {
   "cell_type": "code",
   "execution_count": 15,
   "metadata": {},
   "outputs": [
    {
     "name": "stdout",
     "output_type": "stream",
     "text": [
      "Our projected Present Value of Projected Future Cash Flows are:1556.17.\n",
      "\n",
      "We are providing revenue guidance in 2032 to be: 1371.06.\n",
      "      \n",
      "With an estimated EBITDA around:616.98.\n"
     ]
    }
   ],
   "source": [
    "print(f\"\"\"Our projected Present Value of Projected Future Cash Flows are:{t_pv_of_fcf:.2f}.\\n\n",
    "We are providing revenue guidance in 2032 to be: {Revenue['2032']:.2f}.\n",
    "      \\nWith an estimated EBITDA around:{ebitda['2032']:.2f}.\"\"\")\n"
   ]
  },
  {
   "cell_type": "code",
   "execution_count": 16,
   "metadata": {},
   "outputs": [
    {
     "name": "stdout",
     "output_type": "stream",
     "text": [
      "The terminal value at this time given a multiple of 32.70 \n",
      "\n",
      "and the above EBITDA for 2030, would equal: 20175.08.\n"
     ]
    }
   ],
   "source": [
    "print(f\"\"\"The terminal value at this time given a multiple of {ebitda_exit_multiple:.2f} \n",
    "\\nand the above EBITDA for 2030, would equal: {terminal_value:.2f}.\"\"\")"
   ]
  },
  {
   "cell_type": "code",
   "execution_count": 17,
   "metadata": {},
   "outputs": [
    {
     "data": {
      "text/plain": [
       "Text(0, 0.5, 'Cash Flow')"
      ]
     },
     "execution_count": 17,
     "metadata": {},
     "output_type": "execute_result"
    },
    {
     "data": {
      "image/png": "[encoded data removed]",
      "text/plain": [
       "<Figure size 720x432 with 1 Axes>"
      ]
     },
     "metadata": {
      "needs_background": "light"
     },
     "output_type": "display_data"
    }
   ],
   "source": [
    "plt.figure(figsize=(10,6))\n",
    "\n",
    "# Add title\n",
    "plt.title(\"Cash Flow  From 2021 to 2032\")\n",
    "\n",
    "# Bar chart showing average arrival delay for Spirit Airlines flights by month\n",
    "sns.barplot(x=df.index, y=df['cash_flow'])\n",
    "\n",
    "# Add label for vertical axis\n",
    "plt.xlabel(\"Years\")\n",
    "plt.ylabel(\"Cash Flow\")"
   ]
  }
 ],
 "metadata": {
  "colab": {
   "authorship_tag": "ABX9TyPUxsU8g2TXPzSbP5tCNtop",
   "name": "Untitled18.ipynb",
   "provenance": []
  },
  "kernelspec": {
   "display_name": "Python 3",
   "language": "python",
   "name": "python3"
  },
  "language_info": {
   "codemirror_mode": {
    "name": "ipython",
    "version": 3
   },
   "file_extension": ".py",
   "mimetype": "text/x-python",
   "name": "python",
   "nbconvert_exporter": "python",
   "pygments_lexer": "ipython3",
   "version": "3.8.5"
  }
 },
 "nbformat": 4,
 "nbformat_minor": 4
}
