{
 "cells": [
  {
   "cell_type": "markdown",
   "metadata": {},
   "source": [
    "crypto-analysis"
   ]
  },
  {
   "cell_type": "code",
   "execution_count": null,
   "metadata": {},
   "outputs": [],
   "source": [
    "import pandas_datareader as web\n",
    "import mplfinance as mpf\n",
    "import datetime as dt\n",
    "import matplotlib.pyplot as plt\n",
    "import seaborn as sns\n",
    "\n",
    "currency = \"USD\"\n",
    "metric = \"Close\"\n",
    "\n",
    "start = dt.datetime(2018,1,1)\n",
    "end = dt.datetime.now()\n",
    "\n",
    "crypto = ['BTC', 'ETH', 'LTC', 'XRP', 'DASH', 'SC']\n",
    "colnames = []\n",
    "\n",
    "first = True\n",
    "\n",
    "for ticker in crypto:\n",
    "    data = web.DataReader(f\"{ticker}-{currency}\", \"yahoo\", start, end)\n",
    "    if first:\n",
    "        combined = data[[metric]].copy()\n",
    "        colnames.append(ticker)\n",
    "        combined.columns = colnames\n",
    "        first = False\n",
    "    else:\n",
    "        combined = combined.join(data[metric])\n",
    "        colnames.append(ticker)\n",
    "        combined.columns = colnames\n",
    "\n",
    "plt.yscale('log') # first show linear\n",
    "\n",
    "for ticker in crypto:\n",
    "    plt.plot(combined[ticker], label=ticker)\n",
    "\n",
    "plt.legend(loc=\"upper right\")\n",
    "\n",
    "plt.show()\n",
    "\n",
    "# # Correlation Heat Map\n",
    "\n",
    "print(combined)\n",
    "\n",
    "combined = combined.pct_change().corr(method='pearson')\n",
    "\n",
    "sns.heatmap(combined, annot=True, cmap=\"coolwarm\")\n",
    "plt.show()"
   ]
  }
 ],
 "metadata": {
  "language_info": {
   "name": "python"
  },
  "orig_nbformat": 4
 },
 "nbformat": 4,
 "nbformat_minor": 2
}
