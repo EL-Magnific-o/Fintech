{
 "cells": [
  {
   "cell_type": "code",
   "execution_count": null,
   "id": "573ea699-96f4-42c3-a79e-f99a54af3bf4",
   "metadata": {},
   "outputs": [],
   "source": [
    "#strip()\tRemoves any whitespace form the beginning or the end\n",
    "#lower()\tReturns a string in lower case characters.\n",
    "#upper()\tReturns a string in uppercase characters.\n",
    "#replace()\tReplaces a string with another string.\n",
    "#split()\tSplits the string into sub strings.\n",
    "#capitalize()\tCapitalizes the first character in the string.\n",
    "#count()\tReturns no. of occurrences in the string.\n",
    "#index()\tReturns the index of the character.\n",
    "#find()\tGives the index value of the string specified.\n",
    "#isalpha()\tReturns true if the string has only alphabets.\n",
    "#islanum()\tReturns true if the string has both alphabets and numbers.\n",
    "#isdigit()\tReturns true if the string has only numbers.\n",
    "#islower()\tReturns true if the string has only lower case characters.\n",
    "#isupper()\tReturns true if the string has only upper case characters."
   ]
  },
  {
   "cell_type": "code",
   "execution_count": 15,
   "id": "d046388b-2ab2-4ba2-a410-c5631b90e456",
   "metadata": {},
   "outputs": [
    {
     "name": "stdout",
     "output_type": "stream",
     "text": [
      "6\n"
     ]
    }
   ],
   "source": [
    "s = 'string'\n",
    "l=len(s)\n",
    "print(l)"
   ]
  },
  {
   "cell_type": "code",
   "execution_count": 16,
   "id": "4780bc7d-bbae-4534-8f44-3a02eb076e36",
   "metadata": {},
   "outputs": [
    {
     "name": "stdout",
     "output_type": "stream",
     "text": [
      "r\n"
     ]
    }
   ],
   "source": [
    "a=s[2]\n",
    "print(a)"
   ]
  },
  {
   "cell_type": "code",
   "execution_count": 17,
   "id": "effd599f-e4af-4a03-8d02-dae93b4d129b",
   "metadata": {},
   "outputs": [
    {
     "name": "stdout",
     "output_type": "stream",
     "text": [
      "STRING\n"
     ]
    }
   ],
   "source": [
    "print(s.upper())"
   ]
  },
  {
   "cell_type": "code",
   "execution_count": 19,
   "id": "33264f54-e9d4-430a-8a48-8689b6447e8e",
   "metadata": {},
   "outputs": [
    {
     "name": "stdout",
     "output_type": "stream",
     "text": [
      "['abc', 'def', 'ghi', 'jklm']\n"
     ]
    }
   ],
   "source": [
    "t = 'abc def ghi jklm'\n",
    "\n",
    "b = t.split()\n",
    "print(b)"
   ]
  },
  {
   "cell_type": "code",
   "execution_count": 12,
   "id": "0a9fc4ee-cfd8-47e0-8d24-84718b9808c9",
   "metadata": {},
   "outputs": [
    {
     "name": "stdout",
     "output_type": "stream",
     "text": [
      "rin\n"
     ]
    }
   ],
   "source": [
    "c = s[2:5]\n",
    "print (c)"
   ]
  },
  {
   "cell_type": "code",
   "execution_count": 20,
   "id": "fb6f8c62-6855-484c-a8b9-4d43f5c31e97",
   "metadata": {},
   "outputs": [
    {
     "name": "stdout",
     "output_type": "stream",
     "text": [
      "rn\n"
     ]
    }
   ],
   "source": [
    "d = s[2:6:2]\n",
    "print(d)\n",
    "## do it from 2 _6 jump every other one -2-"
   ]
  },
  {
   "cell_type": "code",
   "execution_count": 23,
   "id": "fd980687-d3fd-456e-836c-1fcf3cc384a3",
   "metadata": {},
   "outputs": [
    {
     "name": "stdout",
     "output_type": "stream",
     "text": [
      "range(0, 5)\n"
     ]
    }
   ],
   "source": [
    "print(range(5))"
   ]
  },
  {
   "cell_type": "code",
   "execution_count": 25,
   "id": "8d94f4f3-2882-4ddb-b85a-94b7c22e6090",
   "metadata": {},
   "outputs": [
    {
     "name": "stdout",
     "output_type": "stream",
     "text": [
      "6\n"
     ]
    }
   ],
   "source": [
    "sum = 0\n",
    "for char in 'coding':\n",
    "    sum+=1\n",
    "    #shortcut for sum=sum+1\n",
    "print(sum)\n",
    "    \n",
    "    #len.()its besc\n",
    "    "
   ]
  },
  {
   "cell_type": "code",
   "execution_count": 32,
   "id": "f6b78605-90d5-443c-bcfd-7799b6dcb546",
   "metadata": {},
   "outputs": [
    {
     "name": "stdout",
     "output_type": "stream",
     "text": [
      "2\n",
      "3\n",
      "4\n",
      "5\n",
      "6\n",
      "7\n",
      "12\n",
      "7\n"
     ]
    }
   ],
   "source": [
    "sum2 = 0\n",
    "i = 1 \n",
    "while i < 7:\n",
    "    sum2 += 2\n",
    "    i+= 1\n",
    "    print(i)\n",
    "print(sum2)\n",
    "print(i)"
   ]
  },
  {
   "cell_type": "code",
   "execution_count": 46,
   "id": "1f2f03b7-c89c-432f-bcb3-ab6c937f35c1",
   "metadata": {},
   "outputs": [
    {
     "name": "stdout",
     "output_type": "stream",
     "text": [
      "hi Khalid\n"
     ]
    }
   ],
   "source": [
    "name = 'Khalid'\n",
    "if name == 'Khalid':\n",
    "    print(\"hi Khalid\")\n",
    "else:\n",
    "    print(\"back off doud \")\n"
   ]
  }
 ],
 "metadata": {
  "kernelspec": {
   "display_name": "Python 3",
   "language": "python",
   "name": "python3"
  },
  "language_info": {
   "codemirror_mode": {
    "name": "ipython",
    "version": 3
   },
   "file_extension": ".py",
   "mimetype": "text/x-python",
   "name": "python",
   "nbconvert_exporter": "python",
   "pygments_lexer": "ipython3",
   "version": "3.8.8"
  }
 },
 "nbformat": 4,
 "nbformat_minor": 5
}
